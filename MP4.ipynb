{
  "nbformat": 4,
  "nbformat_minor": 0,
  "metadata": {
    "colab": {
      "name": "MP4.ipynb",
      "provenance": [],
      "collapsed_sections": [
        "jprbVPe4x_Cq",
        "5p0NiNjYEI2V",
        "5i3ER1VuD3s-",
        "jM-ClXGJfYM9",
        "YNqJxoYwevBq",
        "zfJhb2-FyM95"
      ]
    },
    "kernelspec": {
      "name": "python3",
      "display_name": "Python 3"
    },
    "language_info": {
      "name": "python"
    }
  },
  "cells": [
    {
      "cell_type": "markdown",
      "source": [
        "# Setup"
      ],
      "metadata": {
        "id": "jprbVPe4x_Cq"
      }
    },
    {
      "cell_type": "code",
      "execution_count": null,
      "metadata": {
        "id": "b3c54tIlS-fZ"
      },
      "outputs": [],
      "source": [
        "%cd /content\n",
        "!git clone https://github.com/TianhaoTonyWu/cnn-svm.git"
      ]
    },
    {
      "cell_type": "code",
      "source": [
        "!pwd\n",
        "%cd /content/cnn-svm\n",
        "!sudo chmod +x setup.sh\n",
        "!./setup.sh"
      ],
      "metadata": {
        "id": "iAr26EApTzRu"
      },
      "execution_count": null,
      "outputs": []
    },
    {
      "cell_type": "markdown",
      "source": [
        "# Original Models"
      ],
      "metadata": {
        "id": "5p0NiNjYEI2V"
      }
    },
    {
      "cell_type": "code",
      "source": [
        "# Remove checkpoints\n",
        "!rm /content/cnn-svm/checkpoint/*"
      ],
      "metadata": {
        "id": "Vc9DdbZ6kluy"
      },
      "execution_count": null,
      "outputs": []
    },
    {
      "cell_type": "code",
      "source": [
        "!python3 main.py --model 1 --dataset ./MNIST_data --penalty_parameter 1 --checkpoint_path ./checkpoint --log_path ./logs -e 10000"
      ],
      "metadata": {
        "id": "zAOdZoeUknMc"
      },
      "execution_count": null,
      "outputs": []
    },
    {
      "cell_type": "code",
      "source": [
        "# Remove checkpoints\n",
        "!rm /content/cnn-svm/checkpoint/*"
      ],
      "metadata": {
        "id": "nZsotm3WEQMg"
      },
      "execution_count": null,
      "outputs": []
    },
    {
      "cell_type": "code",
      "source": [
        "!python3 main.py --model 2 --dataset ./MNIST_data --penalty_parameter 1 --checkpoint_path ./checkpoint --log_path ./logs -e 10000"
      ],
      "metadata": {
        "id": "KNQaF2fKESZ9"
      },
      "execution_count": null,
      "outputs": []
    },
    {
      "cell_type": "markdown",
      "source": [
        "# Baseline"
      ],
      "metadata": {
        "id": "5i3ER1VuD3s-"
      }
    },
    {
      "cell_type": "code",
      "source": [
        "# Remove checkpoints\n",
        "!rm /content/cnn-svm/checkpoint/*"
      ],
      "metadata": {
        "id": "4XmM9U2_HSnH"
      },
      "execution_count": 5,
      "outputs": []
    },
    {
      "cell_type": "code",
      "source": [
        "!python3 main.py --model 2 --dataset ./MNIST_data --penalty_parameter 1 --checkpoint_path ./checkpoint --log_path ./logs -e 1000"
      ],
      "metadata": {
        "id": "UV6Y9AuuT6VH"
      },
      "execution_count": null,
      "outputs": []
    },
    {
      "cell_type": "markdown",
      "source": [
        "# Experiments on SVM"
      ],
      "metadata": {
        "id": "jM-ClXGJfYM9"
      }
    },
    {
      "cell_type": "code",
      "source": [
        "# Remove checkpoints\n",
        "!rm /content/cnn-svm/checkpoint/*"
      ],
      "metadata": {
        "id": "plRo7zU9KJYT"
      },
      "execution_count": null,
      "outputs": []
    },
    {
      "cell_type": "markdown",
      "source": [
        "C = 0.001"
      ],
      "metadata": {
        "id": "z__EmvtdD_Bb"
      }
    },
    {
      "cell_type": "code",
      "source": [
        "!python3 main.py --model 2 --dataset ./MNIST_data --penalty_parameter 0.001 --checkpoint_path ./checkpoint --log_path ./logs -e 1000"
      ],
      "metadata": {
        "id": "SWD2PUHkD02G"
      },
      "execution_count": null,
      "outputs": []
    },
    {
      "cell_type": "code",
      "source": [
        "# Remove checkpoints\n",
        "!rm /content/cnn-svm/checkpoint/*"
      ],
      "metadata": {
        "id": "wgl_-K0QKLnl"
      },
      "execution_count": null,
      "outputs": []
    },
    {
      "cell_type": "markdown",
      "source": [
        "C = 1000"
      ],
      "metadata": {
        "id": "Vawi0l7qJoXT"
      }
    },
    {
      "cell_type": "code",
      "source": [
        "!python3 main.py --model 2 --dataset ./MNIST_data --penalty_parameter 1000 --checkpoint_path ./checkpoint --log_path ./logs -e 1000"
      ],
      "metadata": {
        "id": "7AID_01BKCnf"
      },
      "execution_count": null,
      "outputs": []
    },
    {
      "cell_type": "code",
      "source": [
        "# Remove checkpoints\n",
        "!rm /content/cnn-svm/checkpoint/*"
      ],
      "metadata": {
        "id": "hNCjzOt3KMU-"
      },
      "execution_count": null,
      "outputs": []
    },
    {
      "cell_type": "markdown",
      "source": [
        "C = 1000000"
      ],
      "metadata": {
        "id": "KXV3aKxnMqVA"
      }
    },
    {
      "cell_type": "code",
      "source": [
        "!python3 main.py --model 2 --dataset ./MNIST_data --penalty_parameter 1000000 --checkpoint_path ./checkpoint --log_path ./logs -e 1000"
      ],
      "metadata": {
        "id": "E0jqgH8qMpP8"
      },
      "execution_count": null,
      "outputs": []
    },
    {
      "cell_type": "code",
      "source": [
        "# Remove checkpoints\n",
        "!rm /content/cnn-svm/checkpoint/*"
      ],
      "metadata": {
        "id": "XXVK5tcoOo1p"
      },
      "execution_count": null,
      "outputs": []
    },
    {
      "cell_type": "code",
      "source": [
        "!python3 main.py --model 2 --dataset ./MNIST_data --penalty_parameter 0.000001 --checkpoint_path ./checkpoint --log_path ./logs -e 1000"
      ],
      "metadata": {
        "id": "DLRIFNysOpzI"
      },
      "execution_count": null,
      "outputs": []
    },
    {
      "cell_type": "markdown",
      "source": [
        "# Removing one convolution layer"
      ],
      "metadata": {
        "id": "YNqJxoYwevBq"
      }
    },
    {
      "cell_type": "code",
      "source": [
        "# Remove checkpoints\n",
        "!rm /content/cnn-svm/checkpoint/*"
      ],
      "metadata": {
        "id": "mhBXY62VemwS"
      },
      "execution_count": null,
      "outputs": []
    },
    {
      "cell_type": "code",
      "source": [
        "!python3 main.py --model 3 --dataset ./MNIST_data --penalty_parameter 1 --checkpoint_path ./checkpoint --log_path ./logs -e 1000"
      ],
      "metadata": {
        "id": "71Z3akjieqOV"
      },
      "execution_count": null,
      "outputs": []
    },
    {
      "cell_type": "markdown",
      "source": [
        "# Removing all convolution layers"
      ],
      "metadata": {
        "id": "zfJhb2-FyM95"
      }
    },
    {
      "cell_type": "code",
      "source": [
        "# Remove checkpoints\n",
        "!rm /content/cnn-svm/checkpoint/*"
      ],
      "metadata": {
        "id": "zayrq-zPyUHT",
        "colab": {
          "base_uri": "https://localhost:8080/"
        },
        "outputId": "985461bf-15ac-43ab-9642-a7375bf54626"
      },
      "execution_count": 3,
      "outputs": [
        {
          "output_type": "stream",
          "name": "stdout",
          "text": [
            "rm: cannot remove '/content/cnn-svm/checkpoint/*': No such file or directory\n"
          ]
        }
      ]
    },
    {
      "cell_type": "code",
      "source": [
        "!python3 main.py --model 4 --dataset ./MNIST_data --penalty_parameter 1 --checkpoint_path ./checkpoint --log_path ./logs -e 1000"
      ],
      "metadata": {
        "id": "iAG1-glDyXZk"
      },
      "execution_count": null,
      "outputs": []
    }
  ]
}