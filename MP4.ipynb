{
  "nbformat": 4,
  "nbformat_minor": 0,
  "metadata": {
    "colab": {
      "name": "MP4.ipynb",
      "provenance": [],
      "collapsed_sections": [
        "jprbVPe4x_Cq",
        "5p0NiNjYEI2V",
        "5i3ER1VuD3s-",
        "jM-ClXGJfYM9",
        "YNqJxoYwevBq",
        "zfJhb2-FyM95"
      ]
    },
    "kernelspec": {
      "name": "python3",
      "display_name": "Python 3"
    },
    "language_info": {
      "name": "python"
    }
  },
  "cells": [
    {
      "cell_type": "markdown",
      "source": [
        "# Setup"
      ],
      "metadata": {
        "id": "jprbVPe4x_Cq"
      }
    },
    {
      "cell_type": "code",
      "execution_count": null,
      "metadata": {
        "id": "b3c54tIlS-fZ",
        "colab": {
          "base_uri": "https://localhost:8080/"
        },
        "outputId": "4bee5bfc-02ce-4491-d8c1-740193f8bca5"
      },
      "outputs": [
        {
          "output_type": "stream",
          "name": "stdout",
          "text": [
            "/content\n",
            "Cloning into 'cnn-svm'...\n",
            "remote: Enumerating objects: 486, done.\u001b[K\n",
            "remote: Counting objects: 100% (27/27), done.\u001b[K\n",
            "remote: Compressing objects: 100% (22/22), done.\u001b[K\n",
            "remote: Total 486 (delta 15), reused 15 (delta 5), pack-reused 459\u001b[K\n",
            "Receiving objects: 100% (486/486), 64.66 MiB | 28.86 MiB/s, done.\n",
            "Resolving deltas: 100% (223/223), done.\n"
          ]
        }
      ],
      "source": [
        "%cd /content\n",
        "!git clone https://github.com/TianhaoTonyWu/cnn-svm.git"
      ]
    },
    {
      "cell_type": "code",
      "source": [
        "!pwd\n",
        "%cd /content/cnn-svm\n",
        "!sudo chmod +x setup.sh\n",
        "!./setup.sh"
      ],
      "metadata": {
        "colab": {
          "base_uri": "https://localhost:8080/"
        },
        "id": "iAr26EApTzRu",
        "outputId": "1e095ec2-4186-4b5c-eb71-2b9068228d99"
      },
      "execution_count": null,
      "outputs": [
        {
          "output_type": "stream",
          "name": "stdout",
          "text": [
            "/content\n",
            "/content/cnn-svm\n",
            "Python 3 is installed\n",
            "pip is installed\n",
            "Collecting tensorflow_gpu==1.15.4\n",
            "  Downloading tensorflow_gpu-1.15.4-cp37-cp37m-manylinux2010_x86_64.whl (411.0 MB)\n",
            "\u001b[K     |████████████████████████████████| 411.0 MB 21 kB/s \n",
            "\u001b[?25hCollecting tensorflow==1.15.4\n",
            "  Downloading tensorflow-1.15.4-cp37-cp37m-manylinux2010_x86_64.whl (110.5 MB)\n",
            "\u001b[K     |████████████████████████████████| 110.5 MB 1.2 MB/s \n",
            "\u001b[?25hRequirement already satisfied: six>=1.10.0 in /usr/local/lib/python3.7/dist-packages (from tensorflow_gpu==1.15.4->-r requirements.txt (line 1)) (1.15.0)\n",
            "Collecting gast==0.2.2\n",
            "  Downloading gast-0.2.2.tar.gz (10 kB)\n",
            "Requirement already satisfied: keras-preprocessing>=1.0.5 in /usr/local/lib/python3.7/dist-packages (from tensorflow_gpu==1.15.4->-r requirements.txt (line 1)) (1.1.2)\n",
            "Requirement already satisfied: absl-py>=0.7.0 in /usr/local/lib/python3.7/dist-packages (from tensorflow_gpu==1.15.4->-r requirements.txt (line 1)) (1.0.0)\n",
            "Requirement already satisfied: termcolor>=1.1.0 in /usr/local/lib/python3.7/dist-packages (from tensorflow_gpu==1.15.4->-r requirements.txt (line 1)) (1.1.0)\n",
            "Requirement already satisfied: wrapt>=1.11.1 in /usr/local/lib/python3.7/dist-packages (from tensorflow_gpu==1.15.4->-r requirements.txt (line 1)) (1.14.0)\n",
            "Requirement already satisfied: google-pasta>=0.1.6 in /usr/local/lib/python3.7/dist-packages (from tensorflow_gpu==1.15.4->-r requirements.txt (line 1)) (0.2.0)\n",
            "Collecting tensorflow-estimator==1.15.1\n",
            "  Downloading tensorflow_estimator-1.15.1-py2.py3-none-any.whl (503 kB)\n",
            "\u001b[K     |████████████████████████████████| 503 kB 67.0 MB/s \n",
            "\u001b[?25hRequirement already satisfied: opt-einsum>=2.3.2 in /usr/local/lib/python3.7/dist-packages (from tensorflow_gpu==1.15.4->-r requirements.txt (line 1)) (3.3.0)\n",
            "Requirement already satisfied: grpcio>=1.8.6 in /usr/local/lib/python3.7/dist-packages (from tensorflow_gpu==1.15.4->-r requirements.txt (line 1)) (1.44.0)\n",
            "Requirement already satisfied: wheel>=0.26 in /usr/local/lib/python3.7/dist-packages (from tensorflow_gpu==1.15.4->-r requirements.txt (line 1)) (0.37.1)\n",
            "Collecting keras-applications>=1.0.8\n",
            "  Downloading Keras_Applications-1.0.8-py3-none-any.whl (50 kB)\n",
            "\u001b[K     |████████████████████████████████| 50 kB 5.8 MB/s \n",
            "\u001b[?25hCollecting tensorboard<1.16.0,>=1.15.0\n",
            "  Downloading tensorboard-1.15.0-py3-none-any.whl (3.8 MB)\n",
            "\u001b[K     |████████████████████████████████| 3.8 MB 35.3 MB/s \n",
            "\u001b[?25hCollecting numpy<1.19.0,>=1.16.0\n",
            "  Downloading numpy-1.18.5-cp37-cp37m-manylinux1_x86_64.whl (20.1 MB)\n",
            "\u001b[K     |████████████████████████████████| 20.1 MB 105.6 MB/s \n",
            "\u001b[?25hRequirement already satisfied: astor>=0.6.0 in /usr/local/lib/python3.7/dist-packages (from tensorflow_gpu==1.15.4->-r requirements.txt (line 1)) (0.8.1)\n",
            "Requirement already satisfied: protobuf>=3.6.1 in /usr/local/lib/python3.7/dist-packages (from tensorflow_gpu==1.15.4->-r requirements.txt (line 1)) (3.17.3)\n",
            "Requirement already satisfied: h5py in /usr/local/lib/python3.7/dist-packages (from keras-applications>=1.0.8->tensorflow_gpu==1.15.4->-r requirements.txt (line 1)) (3.1.0)\n",
            "Requirement already satisfied: werkzeug>=0.11.15 in /usr/local/lib/python3.7/dist-packages (from tensorboard<1.16.0,>=1.15.0->tensorflow_gpu==1.15.4->-r requirements.txt (line 1)) (1.0.1)\n",
            "Requirement already satisfied: markdown>=2.6.8 in /usr/local/lib/python3.7/dist-packages (from tensorboard<1.16.0,>=1.15.0->tensorflow_gpu==1.15.4->-r requirements.txt (line 1)) (3.3.6)\n",
            "Requirement already satisfied: setuptools>=41.0.0 in /usr/local/lib/python3.7/dist-packages (from tensorboard<1.16.0,>=1.15.0->tensorflow_gpu==1.15.4->-r requirements.txt (line 1)) (57.4.0)\n",
            "Requirement already satisfied: importlib-metadata>=4.4 in /usr/local/lib/python3.7/dist-packages (from markdown>=2.6.8->tensorboard<1.16.0,>=1.15.0->tensorflow_gpu==1.15.4->-r requirements.txt (line 1)) (4.11.3)\n",
            "Requirement already satisfied: typing-extensions>=3.6.4 in /usr/local/lib/python3.7/dist-packages (from importlib-metadata>=4.4->markdown>=2.6.8->tensorboard<1.16.0,>=1.15.0->tensorflow_gpu==1.15.4->-r requirements.txt (line 1)) (4.2.0)\n",
            "Requirement already satisfied: zipp>=0.5 in /usr/local/lib/python3.7/dist-packages (from importlib-metadata>=4.4->markdown>=2.6.8->tensorboard<1.16.0,>=1.15.0->tensorflow_gpu==1.15.4->-r requirements.txt (line 1)) (3.8.0)\n",
            "Requirement already satisfied: cached-property in /usr/local/lib/python3.7/dist-packages (from h5py->keras-applications>=1.0.8->tensorflow_gpu==1.15.4->-r requirements.txt (line 1)) (1.5.2)\n",
            "Building wheels for collected packages: gast\n",
            "  Building wheel for gast (setup.py) ... \u001b[?25l\u001b[?25hdone\n",
            "  Created wheel for gast: filename=gast-0.2.2-py3-none-any.whl size=7554 sha256=fba0e7ec548c202642d5fa953c5cbc26b14d5f6653d0b73a04f5deb742c06cab\n",
            "  Stored in directory: /root/.cache/pip/wheels/21/7f/02/420f32a803f7d0967b48dd823da3f558c5166991bfd204eef3\n",
            "Successfully built gast\n",
            "Installing collected packages: numpy, tensorflow-estimator, tensorboard, keras-applications, gast, tensorflow-gpu, tensorflow\n",
            "  Attempting uninstall: numpy\n",
            "    Found existing installation: numpy 1.21.6\n",
            "    Uninstalling numpy-1.21.6:\n",
            "      Successfully uninstalled numpy-1.21.6\n",
            "  Attempting uninstall: tensorflow-estimator\n",
            "    Found existing installation: tensorflow-estimator 2.8.0\n",
            "    Uninstalling tensorflow-estimator-2.8.0:\n",
            "      Successfully uninstalled tensorflow-estimator-2.8.0\n",
            "  Attempting uninstall: tensorboard\n",
            "    Found existing installation: tensorboard 2.8.0\n",
            "    Uninstalling tensorboard-2.8.0:\n",
            "      Successfully uninstalled tensorboard-2.8.0\n",
            "  Attempting uninstall: gast\n",
            "    Found existing installation: gast 0.5.3\n",
            "    Uninstalling gast-0.5.3:\n",
            "      Successfully uninstalled gast-0.5.3\n",
            "  Attempting uninstall: tensorflow\n",
            "    Found existing installation: tensorflow 2.8.0\n",
            "    Uninstalling tensorflow-2.8.0:\n",
            "      Successfully uninstalled tensorflow-2.8.0\n",
            "\u001b[31mERROR: pip's dependency resolver does not currently take into account all the packages that are installed. This behaviour is the source of the following dependency conflicts.\n",
            "tensorflow-probability 0.16.0 requires gast>=0.3.2, but you have gast 0.2.2 which is incompatible.\n",
            "tables 3.7.0 requires numpy>=1.19.0, but you have numpy 1.18.5 which is incompatible.\n",
            "kapre 0.3.7 requires tensorflow>=2.0.0, but you have tensorflow 1.15.4 which is incompatible.\n",
            "jaxlib 0.3.2+cuda11.cudnn805 requires numpy>=1.19, but you have numpy 1.18.5 which is incompatible.\n",
            "jax 0.3.4 requires numpy>=1.19, but you have numpy 1.18.5 which is incompatible.\n",
            "datascience 0.10.6 requires folium==0.2.1, but you have folium 0.8.3 which is incompatible.\n",
            "albumentations 0.1.12 requires imgaug<0.2.7,>=0.2.5, but you have imgaug 0.2.9 which is incompatible.\u001b[0m\n",
            "Successfully installed gast-0.2.2 keras-applications-1.0.8 numpy-1.18.5 tensorboard-1.15.0 tensorflow-1.15.4 tensorflow-estimator-1.15.1 tensorflow-gpu-1.15.4\n"
          ]
        }
      ]
    },
    {
      "cell_type": "markdown",
      "source": [
        "# Original Models"
      ],
      "metadata": {
        "id": "5p0NiNjYEI2V"
      }
    },
    {
      "cell_type": "code",
      "source": [
        "# Remove checkpoints\n",
        "!rm /content/cnn-svm/checkpoint/*"
      ],
      "metadata": {
        "colab": {
          "base_uri": "https://localhost:8080/"
        },
        "id": "Vc9DdbZ6kluy",
        "outputId": "794356f6-146d-4e91-d48f-bcf789e55b7d"
      },
      "execution_count": null,
      "outputs": [
        {
          "output_type": "stream",
          "name": "stdout",
          "text": [
            "rm: cannot remove '/content/cnn-svm/checkpoint/*': No such file or directory\n"
          ]
        }
      ]
    },
    {
      "cell_type": "code",
      "source": [
        "!python3 main.py --model 1 --dataset ./MNIST_data --penalty_parameter 1 --checkpoint_path ./checkpoint --log_path ./logs -e 10000"
      ],
      "metadata": {
        "colab": {
          "base_uri": "https://localhost:8080/"
        },
        "outputId": "ce1cd2ca-031f-4800-e605-1fb3dc721c4e",
        "id": "zAOdZoeUknMc"
      },
      "execution_count": null,
      "outputs": [
        {
          "output_type": "stream",
          "name": "stdout",
          "text": [
            "WARNING:tensorflow:From main.py:83: read_data_sets (from tensorflow.contrib.learn.python.learn.datasets.mnist) is deprecated and will be removed in a future version.\n",
            "Instructions for updating:\n",
            "Please use alternatives such as official/mnist/dataset.py from tensorflow/models.\n",
            "WARNING:tensorflow:From /usr/local/lib/python3.7/dist-packages/tensorflow_core/contrib/learn/python/learn/datasets/mnist.py:260: maybe_download (from tensorflow.contrib.learn.python.learn.datasets.base) is deprecated and will be removed in a future version.\n",
            "Instructions for updating:\n",
            "Please write your own downloading logic.\n",
            "WARNING:tensorflow:From /usr/local/lib/python3.7/dist-packages/tensorflow_core/contrib/learn/python/learn/datasets/base.py:252: _internal_retry.<locals>.wrap.<locals>.wrapped_fn (from tensorflow.contrib.learn.python.learn.datasets.base) is deprecated and will be removed in a future version.\n",
            "Instructions for updating:\n",
            "Please use urllib or similar directly.\n",
            "Successfully downloaded train-images-idx3-ubyte.gz 9912422 bytes.\n",
            "WARNING:tensorflow:From /usr/local/lib/python3.7/dist-packages/tensorflow_core/contrib/learn/python/learn/datasets/mnist.py:262: extract_images (from tensorflow.contrib.learn.python.learn.datasets.mnist) is deprecated and will be removed in a future version.\n",
            "Instructions for updating:\n",
            "Please use tf.data to implement this functionality.\n",
            "Extracting ./MNIST_data/train-images-idx3-ubyte.gz\n",
            "Successfully downloaded train-labels-idx1-ubyte.gz 28881 bytes.\n",
            "WARNING:tensorflow:From /usr/local/lib/python3.7/dist-packages/tensorflow_core/contrib/learn/python/learn/datasets/mnist.py:267: extract_labels (from tensorflow.contrib.learn.python.learn.datasets.mnist) is deprecated and will be removed in a future version.\n",
            "Instructions for updating:\n",
            "Please use tf.data to implement this functionality.\n",
            "Extracting ./MNIST_data/train-labels-idx1-ubyte.gz\n",
            "WARNING:tensorflow:From /usr/local/lib/python3.7/dist-packages/tensorflow_core/contrib/learn/python/learn/datasets/mnist.py:110: dense_to_one_hot (from tensorflow.contrib.learn.python.learn.datasets.mnist) is deprecated and will be removed in a future version.\n",
            "Instructions for updating:\n",
            "Please use tf.one_hot on tensors.\n",
            "Successfully downloaded t10k-images-idx3-ubyte.gz 1648877 bytes.\n",
            "Extracting ./MNIST_data/t10k-images-idx3-ubyte.gz\n",
            "Successfully downloaded t10k-labels-idx1-ubyte.gz 4542 bytes.\n",
            "Extracting ./MNIST_data/t10k-labels-idx1-ubyte.gz\n",
            "WARNING:tensorflow:From /usr/local/lib/python3.7/dist-packages/tensorflow_core/contrib/learn/python/learn/datasets/mnist.py:290: DataSet.__init__ (from tensorflow.contrib.learn.python.learn.datasets.mnist) is deprecated and will be removed in a future version.\n",
            "Instructions for updating:\n",
            "Please use alternatives such as official/mnist/dataset.py from tensorflow/models.\n",
            "\n",
            "<log> Building graph...WARNING:tensorflow:From /content/cnn-svm/model/cnn_softmax.py:47: The name tf.placeholder is deprecated. Please use tf.compat.v1.placeholder instead.\n",
            "\n",
            "WARNING:tensorflow:From /content/cnn-svm/model/cnn_softmax.py:230: The name tf.truncated_normal is deprecated. Please use tf.random.truncated_normal instead.\n",
            "\n",
            "WARNING:tensorflow:From /content/cnn-svm/model/cnn_softmax.py:260: The name tf.nn.max_pool is deprecated. Please use tf.nn.max_pool2d instead.\n",
            "\n",
            "WARNING:tensorflow:From /content/cnn-svm/model/cnn_softmax.py:88: calling dropout (from tensorflow.python.ops.nn_ops) with keep_prob is deprecated and will be removed in a future version.\n",
            "Instructions for updating:\n",
            "Please use `rate` instead of `keep_prob`. Rate should be set to `rate = 1 - keep_prob`.\n",
            "WARNING:tensorflow:From /content/cnn-svm/model/cnn_softmax.py:99: softmax_cross_entropy_with_logits (from tensorflow.python.ops.nn_ops) is deprecated and will be removed in a future version.\n",
            "Instructions for updating:\n",
            "\n",
            "Future major versions of TensorFlow will allow gradients to flow\n",
            "into the labels input on backprop by default.\n",
            "\n",
            "See `tf.nn.softmax_cross_entropy_with_logits_v2`.\n",
            "\n",
            "WARNING:tensorflow:From /content/cnn-svm/model/cnn_softmax.py:102: The name tf.summary.scalar is deprecated. Please use tf.compat.v1.summary.scalar instead.\n",
            "\n",
            "WARNING:tensorflow:From /content/cnn-svm/model/cnn_softmax.py:104: The name tf.train.AdamOptimizer is deprecated. Please use tf.compat.v1.train.AdamOptimizer instead.\n",
            "\n",
            "WARNING:tensorflow:From /content/cnn-svm/model/cnn_softmax.py:115: The name tf.summary.merge_all is deprecated. Please use tf.compat.v1.summary.merge_all instead.\n",
            "\n",
            "</log>\n",
            "WARNING:tensorflow:From /content/cnn-svm/model/cnn_softmax.py:147: The name tf.train.Saver is deprecated. Please use tf.compat.v1.train.Saver instead.\n",
            "\n",
            "WARNING:tensorflow:From /content/cnn-svm/model/cnn_softmax.py:149: The name tf.global_variables_initializer is deprecated. Please use tf.compat.v1.global_variables_initializer instead.\n",
            "\n",
            "WARNING:tensorflow:From /content/cnn-svm/model/cnn_softmax.py:153: The name tf.summary.FileWriter is deprecated. Please use tf.compat.v1.summary.FileWriter instead.\n",
            "\n",
            "WARNING:tensorflow:From /content/cnn-svm/model/cnn_softmax.py:154: The name tf.get_default_graph is deprecated. Please use tf.compat.v1.get_default_graph instead.\n",
            "\n",
            "WARNING:tensorflow:From /content/cnn-svm/model/cnn_softmax.py:157: The name tf.Session is deprecated. Please use tf.compat.v1.Session instead.\n",
            "\n",
            "2022-04-25 16:39:51.705803: I tensorflow/core/platform/cpu_feature_guard.cc:142] Your CPU supports instructions that this TensorFlow binary was not compiled to use: AVX2 FMA\n",
            "2022-04-25 16:39:51.709432: I tensorflow/core/platform/profile_utils/cpu_utils.cc:94] CPU Frequency: 2200135000 Hz\n",
            "2022-04-25 16:39:51.709741: I tensorflow/compiler/xla/service/service.cc:168] XLA service 0x56486cc33b80 initialized for platform Host (this does not guarantee that XLA will be used). Devices:\n",
            "2022-04-25 16:39:51.709781: I tensorflow/compiler/xla/service/service.cc:176]   StreamExecutor device (0): Host, Default Version\n",
            "step: 0, training accuracy : 0.203125, training loss : 10.317105293273926\n",
            "step: 100, training accuracy : 0.96875, training loss : 0.21170605719089508\n",
            "step: 200, training accuracy : 0.984375, training loss : 0.10126109421253204\n",
            "step: 300, training accuracy : 0.9765625, training loss : 0.05888530611991882\n",
            "step: 400, training accuracy : 0.9765625, training loss : 0.16374382376670837\n",
            "WARNING:tensorflow:From /usr/local/lib/python3.7/dist-packages/tensorflow_core/python/training/saver.py:963: remove_checkpoint (from tensorflow.python.training.checkpoint_management) is deprecated and will be removed in a future version.\n",
            "Instructions for updating:\n",
            "Use standard file APIs to delete files with this prefix.\n",
            "step: 500, training accuracy : 0.9765625, training loss : 0.09755559265613556\n",
            "step: 600, training accuracy : 1.0, training loss : 0.06751168519258499\n",
            "step: 700, training accuracy : 0.9921875, training loss : 0.019796788692474365\n",
            "step: 800, training accuracy : 0.984375, training loss : 0.06420222669839859\n",
            "step: 900, training accuracy : 1.0, training loss : 0.026387520134449005\n",
            "step: 1000, training accuracy : 0.984375, training loss : 0.16107283532619476\n",
            "step: 1100, training accuracy : 1.0, training loss : 0.023002080619335175\n",
            "step: 1200, training accuracy : 0.9921875, training loss : 0.05324573814868927\n",
            "step: 1300, training accuracy : 0.984375, training loss : 0.06546425074338913\n",
            "step: 1400, training accuracy : 0.9921875, training loss : 0.032861094921827316\n",
            "step: 1500, training accuracy : 0.9921875, training loss : 0.012887661345303059\n",
            "step: 1600, training accuracy : 0.9921875, training loss : 0.05408164858818054\n",
            "step: 1700, training accuracy : 1.0, training loss : 0.017917312681674957\n",
            "step: 1800, training accuracy : 1.0, training loss : 0.02316971868276596\n",
            "step: 1900, training accuracy : 0.984375, training loss : 0.05416802316904068\n",
            "step: 2000, training accuracy : 0.9921875, training loss : 0.06516672670841217\n",
            "step: 2100, training accuracy : 0.9921875, training loss : 0.02495618537068367\n",
            "step: 2200, training accuracy : 1.0, training loss : 0.019264373928308487\n",
            "step: 2300, training accuracy : 1.0, training loss : 0.0330154187977314\n",
            "step: 2400, training accuracy : 1.0, training loss : 0.000923469546250999\n",
            "step: 2500, training accuracy : 1.0, training loss : 0.01024650875478983\n",
            "step: 2600, training accuracy : 1.0, training loss : 0.00255473330616951\n",
            "step: 2700, training accuracy : 1.0, training loss : 0.014495995827019215\n",
            "step: 2800, training accuracy : 1.0, training loss : 0.006344472523778677\n",
            "step: 2900, training accuracy : 0.9921875, training loss : 0.009300803765654564\n",
            "step: 3000, training accuracy : 1.0, training loss : 0.0072233472019433975\n",
            "step: 3100, training accuracy : 1.0, training loss : 0.002475234679877758\n",
            "step: 3200, training accuracy : 1.0, training loss : 0.0023492255713790655\n",
            "step: 3300, training accuracy : 1.0, training loss : 0.017275653779506683\n",
            "step: 3400, training accuracy : 1.0, training loss : 0.016100184991955757\n",
            "step: 3500, training accuracy : 1.0, training loss : 0.015189671888947487\n",
            "step: 3600, training accuracy : 1.0, training loss : 0.01888999529182911\n",
            "step: 3700, training accuracy : 1.0, training loss : 0.000332442345097661\n",
            "step: 3800, training accuracy : 1.0, training loss : 0.0035865206737071276\n",
            "step: 3900, training accuracy : 1.0, training loss : 0.003310383064672351\n",
            "step: 4000, training accuracy : 1.0, training loss : 0.0015891557559370995\n",
            "step: 4100, training accuracy : 1.0, training loss : 0.03799310699105263\n",
            "step: 4200, training accuracy : 1.0, training loss : 0.010341932997107506\n",
            "step: 4300, training accuracy : 1.0, training loss : 0.0018336896318942308\n",
            "step: 4400, training accuracy : 1.0, training loss : 0.001124389236792922\n",
            "step: 4500, training accuracy : 0.9921875, training loss : 0.014073273167014122\n",
            "step: 4600, training accuracy : 1.0, training loss : 0.001855868031270802\n",
            "step: 4700, training accuracy : 1.0, training loss : 0.0014364151284098625\n",
            "step: 4800, training accuracy : 1.0, training loss : 0.0004108546127099544\n",
            "step: 4900, training accuracy : 1.0, training loss : 0.013296865858137608\n",
            "step: 5000, training accuracy : 1.0, training loss : 0.0017503260169178247\n",
            "step: 5100, training accuracy : 1.0, training loss : 0.004734525457024574\n",
            "step: 5200, training accuracy : 1.0, training loss : 0.003804524429142475\n",
            "step: 5300, training accuracy : 1.0, training loss : 0.0011556250974535942\n",
            "step: 5400, training accuracy : 1.0, training loss : 0.0014055242063477635\n",
            "step: 5500, training accuracy : 1.0, training loss : 0.006820788607001305\n",
            "step: 5600, training accuracy : 1.0, training loss : 0.00033301906660199165\n",
            "step: 5700, training accuracy : 1.0, training loss : 0.028836142271757126\n",
            "step: 5800, training accuracy : 1.0, training loss : 0.0027643232606351376\n",
            "step: 5900, training accuracy : 0.9921875, training loss : 0.042470090091228485\n",
            "step: 6000, training accuracy : 1.0, training loss : 0.004987629130482674\n",
            "step: 6100, training accuracy : 1.0, training loss : 0.0015990757383406162\n",
            "step: 6200, training accuracy : 1.0, training loss : 0.014260583557188511\n",
            "step: 6300, training accuracy : 1.0, training loss : 0.01877927966415882\n",
            "step: 6400, training accuracy : 1.0, training loss : 0.0008506650337949395\n",
            "step: 6500, training accuracy : 1.0, training loss : 0.01689191907644272\n",
            "step: 6600, training accuracy : 0.9921875, training loss : 0.06765617430210114\n",
            "step: 6700, training accuracy : 1.0, training loss : 0.0006890439544804394\n",
            "step: 6800, training accuracy : 1.0, training loss : 0.004457267001271248\n",
            "step: 6900, training accuracy : 1.0, training loss : 0.00012512478861026466\n",
            "step: 7000, training accuracy : 1.0, training loss : 0.004831199534237385\n",
            "step: 7100, training accuracy : 1.0, training loss : 0.0011395610636100173\n",
            "step: 7200, training accuracy : 1.0, training loss : 0.0011440124362707138\n",
            "step: 7300, training accuracy : 1.0, training loss : 0.002200255636125803\n",
            "step: 7400, training accuracy : 1.0, training loss : 0.00029666602495126426\n",
            "step: 7500, training accuracy : 1.0, training loss : 1.4470038877334446e-05\n",
            "step: 7600, training accuracy : 1.0, training loss : 0.0005243400810286403\n",
            "step: 7700, training accuracy : 1.0, training loss : 0.0008964844746515155\n",
            "step: 7800, training accuracy : 1.0, training loss : 0.00598657364025712\n",
            "step: 7900, training accuracy : 1.0, training loss : 0.007627985905855894\n",
            "step: 8000, training accuracy : 1.0, training loss : 1.5170884353210567e-06\n",
            "step: 8100, training accuracy : 1.0, training loss : 0.0004818737506866455\n",
            "step: 8200, training accuracy : 1.0, training loss : 0.0010720386635512114\n",
            "step: 8300, training accuracy : 1.0, training loss : 0.009511363692581654\n",
            "step: 8400, training accuracy : 1.0, training loss : 0.0001338445144938305\n",
            "step: 8500, training accuracy : 1.0, training loss : 0.008054213598370552\n",
            "step: 8600, training accuracy : 1.0, training loss : 0.001877587172202766\n",
            "step: 8700, training accuracy : 1.0, training loss : 0.00046487024519592524\n",
            "step: 8800, training accuracy : 1.0, training loss : 0.0006961860926821828\n",
            "step: 8900, training accuracy : 1.0, training loss : 0.00012107322982046753\n",
            "step: 9000, training accuracy : 1.0, training loss : 0.03334072604775429\n",
            "step: 9100, training accuracy : 1.0, training loss : 0.00010692358046071604\n",
            "step: 9200, training accuracy : 1.0, training loss : 0.004300714936107397\n",
            "step: 9300, training accuracy : 1.0, training loss : 0.046322811394929886\n",
            "step: 9400, training accuracy : 1.0, training loss : 0.0002461594995111227\n",
            "step: 9500, training accuracy : 1.0, training loss : 0.001755810808390379\n",
            "step: 9600, training accuracy : 1.0, training loss : 0.00036625564098358154\n",
            "step: 9700, training accuracy : 1.0, training loss : 0.00045260332990437746\n",
            "step: 9800, training accuracy : 1.0, training loss : 0.0008073808858171105\n",
            "step: 9900, training accuracy : 1.0, training loss : 3.722450856002979e-05\n",
            "2022-04-25 17:37:13.024361: W tensorflow/core/framework/cpu_allocator_impl.cc:81] Allocation of 1003520000 exceeds 10% of system memory.\n",
            "2022-04-25 17:37:15.414079: W tensorflow/core/framework/cpu_allocator_impl.cc:81] Allocation of 250880000 exceeds 10% of system memory.\n",
            "2022-04-25 17:37:15.917445: W tensorflow/core/framework/cpu_allocator_impl.cc:81] Allocation of 501760000 exceeds 10% of system memory.\n",
            "tcmalloc: large alloc 4265246720 bytes == 0x5648f2180000 @  0x7f2821f991e7 0x7f280f4a7722 0x7f2811fdbaca 0x7f28120632f1 0x7f281206549d 0x7f2812065c51 0x7f2812067c2b 0x7f28120682cc 0x7f281206918c 0x7f280b5c3dcc 0x7f280b5c40ff 0x7f280b676f81 0x7f280b674678 0x7f282087b6df 0x7f2821d4e6db 0x7f2820e8361f\n",
            "Test Accuracy: 0.9919000267982483\n"
          ]
        }
      ]
    },
    {
      "cell_type": "code",
      "source": [
        "# Remove checkpoints\n",
        "!rm /content/cnn-svm/checkpoint/*"
      ],
      "metadata": {
        "id": "nZsotm3WEQMg"
      },
      "execution_count": null,
      "outputs": []
    },
    {
      "cell_type": "code",
      "source": [
        "!python3 main.py --model 2 --dataset ./MNIST_data --penalty_parameter 1 --checkpoint_path ./checkpoint --log_path ./logs -e 10000"
      ],
      "metadata": {
        "colab": {
          "base_uri": "https://localhost:8080/"
        },
        "outputId": "1f227d6c-8933-42f6-8f44-aebdea53ccb0",
        "id": "KNQaF2fKESZ9"
      },
      "execution_count": null,
      "outputs": [
        {
          "output_type": "stream",
          "name": "stdout",
          "text": [
            "WARNING:tensorflow:From main.py:83: read_data_sets (from tensorflow.contrib.learn.python.learn.datasets.mnist) is deprecated and will be removed in a future version.\n",
            "Instructions for updating:\n",
            "Please use alternatives such as official/mnist/dataset.py from tensorflow/models.\n",
            "WARNING:tensorflow:From /usr/local/lib/python3.7/dist-packages/tensorflow_core/contrib/learn/python/learn/datasets/mnist.py:260: maybe_download (from tensorflow.contrib.learn.python.learn.datasets.base) is deprecated and will be removed in a future version.\n",
            "Instructions for updating:\n",
            "Please write your own downloading logic.\n",
            "WARNING:tensorflow:From /usr/local/lib/python3.7/dist-packages/tensorflow_core/contrib/learn/python/learn/datasets/mnist.py:262: extract_images (from tensorflow.contrib.learn.python.learn.datasets.mnist) is deprecated and will be removed in a future version.\n",
            "Instructions for updating:\n",
            "Please use tf.data to implement this functionality.\n",
            "Extracting ./MNIST_data/train-images-idx3-ubyte.gz\n",
            "WARNING:tensorflow:From /usr/local/lib/python3.7/dist-packages/tensorflow_core/contrib/learn/python/learn/datasets/mnist.py:267: extract_labels (from tensorflow.contrib.learn.python.learn.datasets.mnist) is deprecated and will be removed in a future version.\n",
            "Instructions for updating:\n",
            "Please use tf.data to implement this functionality.\n",
            "Extracting ./MNIST_data/train-labels-idx1-ubyte.gz\n",
            "WARNING:tensorflow:From /usr/local/lib/python3.7/dist-packages/tensorflow_core/contrib/learn/python/learn/datasets/mnist.py:110: dense_to_one_hot (from tensorflow.contrib.learn.python.learn.datasets.mnist) is deprecated and will be removed in a future version.\n",
            "Instructions for updating:\n",
            "Please use tf.one_hot on tensors.\n",
            "Extracting ./MNIST_data/t10k-images-idx3-ubyte.gz\n",
            "Extracting ./MNIST_data/t10k-labels-idx1-ubyte.gz\n",
            "WARNING:tensorflow:From /usr/local/lib/python3.7/dist-packages/tensorflow_core/contrib/learn/python/learn/datasets/mnist.py:290: DataSet.__init__ (from tensorflow.contrib.learn.python.learn.datasets.mnist) is deprecated and will be removed in a future version.\n",
            "Instructions for updating:\n",
            "Please use alternatives such as official/mnist/dataset.py from tensorflow/models.\n",
            "\n",
            "<log> Building graph...WARNING:tensorflow:From /content/cnn-svm/model/cnn_svm.py:49: The name tf.placeholder is deprecated. Please use tf.compat.v1.placeholder instead.\n",
            "\n",
            "WARNING:tensorflow:From /content/cnn-svm/model/cnn_svm.py:238: The name tf.truncated_normal is deprecated. Please use tf.random.truncated_normal instead.\n",
            "\n",
            "WARNING:tensorflow:From /content/cnn-svm/model/cnn_svm.py:268: The name tf.nn.max_pool is deprecated. Please use tf.nn.max_pool2d instead.\n",
            "\n",
            "WARNING:tensorflow:From /content/cnn-svm/model/cnn_svm.py:89: calling dropout (from tensorflow.python.ops.nn_ops) with keep_prob is deprecated and will be removed in a future version.\n",
            "Instructions for updating:\n",
            "Please use `rate` instead of `keep_prob`. Rate should be set to `rate = 1 - keep_prob`.\n",
            "WARNING:tensorflow:From /content/cnn-svm/model/cnn_svm.py:108: The name tf.summary.scalar is deprecated. Please use tf.compat.v1.summary.scalar instead.\n",
            "\n",
            "WARNING:tensorflow:From /content/cnn-svm/model/cnn_svm.py:110: The name tf.train.AdamOptimizer is deprecated. Please use tf.compat.v1.train.AdamOptimizer instead.\n",
            "\n",
            "WARNING:tensorflow:From /usr/local/lib/python3.7/dist-packages/tensorflow_core/python/ops/math_grad.py:1424: where (from tensorflow.python.ops.array_ops) is deprecated and will be removed in a future version.\n",
            "Instructions for updating:\n",
            "Use tf.where in 2.0, which has the same broadcast rule as np.where\n",
            "WARNING:tensorflow:From /content/cnn-svm/model/cnn_svm.py:121: The name tf.summary.merge_all is deprecated. Please use tf.compat.v1.summary.merge_all instead.\n",
            "\n",
            "</log>\n",
            "WARNING:tensorflow:From /content/cnn-svm/model/cnn_svm.py:153: The name tf.train.Saver is deprecated. Please use tf.compat.v1.train.Saver instead.\n",
            "\n",
            "WARNING:tensorflow:From /content/cnn-svm/model/cnn_svm.py:155: The name tf.global_variables_initializer is deprecated. Please use tf.compat.v1.global_variables_initializer instead.\n",
            "\n",
            "WARNING:tensorflow:From /content/cnn-svm/model/cnn_svm.py:159: The name tf.summary.FileWriter is deprecated. Please use tf.compat.v1.summary.FileWriter instead.\n",
            "\n",
            "WARNING:tensorflow:From /content/cnn-svm/model/cnn_svm.py:160: The name tf.get_default_graph is deprecated. Please use tf.compat.v1.get_default_graph instead.\n",
            "\n",
            "WARNING:tensorflow:From /content/cnn-svm/model/cnn_svm.py:163: The name tf.Session is deprecated. Please use tf.compat.v1.Session instead.\n",
            "\n",
            "2022-04-24 19:34:57.834893: I tensorflow/core/platform/cpu_feature_guard.cc:142] Your CPU supports instructions that this TensorFlow binary was not compiled to use: AVX2 FMA\n",
            "2022-04-24 19:34:57.838825: I tensorflow/core/platform/profile_utils/cpu_utils.cc:94] CPU Frequency: 2199995000 Hz\n",
            "2022-04-24 19:34:57.839173: I tensorflow/compiler/xla/service/service.cc:168] XLA service 0x5563674abb80 initialized for platform Host (this does not guarantee that XLA will be used). Devices:\n",
            "2022-04-24 19:34:57.839217: I tensorflow/compiler/xla/service/service.cc:176]   StreamExecutor device (0): Host, Default Version\n",
            "step: 0, training accuracy : 0.1640625, training loss : 26.102548599243164\n",
            "step: 100, training accuracy : 0.921875, training loss : 0.10868527740240097\n",
            "step: 200, training accuracy : 0.9609375, training loss : 0.07587922364473343\n",
            "step: 300, training accuracy : 0.984375, training loss : 0.03982257470488548\n",
            "step: 400, training accuracy : 0.9609375, training loss : 0.05607302114367485\n",
            "WARNING:tensorflow:From /usr/local/lib/python3.7/dist-packages/tensorflow_core/python/training/saver.py:963: remove_checkpoint (from tensorflow.python.training.checkpoint_management) is deprecated and will be removed in a future version.\n",
            "Instructions for updating:\n",
            "Use standard file APIs to delete files with this prefix.\n",
            "step: 500, training accuracy : 0.9921875, training loss : 0.031127657741308212\n",
            "step: 600, training accuracy : 0.984375, training loss : 0.034362275153398514\n",
            "step: 700, training accuracy : 0.984375, training loss : 0.03984304144978523\n",
            "step: 800, training accuracy : 1.0, training loss : 0.02024451084434986\n",
            "step: 900, training accuracy : 0.9765625, training loss : 0.023993022739887238\n",
            "step: 1000, training accuracy : 1.0, training loss : 0.01638457179069519\n",
            "step: 1100, training accuracy : 0.984375, training loss : 0.031029077246785164\n",
            "step: 1200, training accuracy : 0.9921875, training loss : 0.018686434254050255\n",
            "step: 1300, training accuracy : 0.984375, training loss : 0.020392566919326782\n",
            "step: 1400, training accuracy : 0.9921875, training loss : 0.01822364516556263\n",
            "step: 1500, training accuracy : 0.984375, training loss : 0.023262016475200653\n",
            "step: 1600, training accuracy : 0.9921875, training loss : 0.025691617280244827\n",
            "step: 1700, training accuracy : 0.984375, training loss : 0.02367730438709259\n",
            "step: 1800, training accuracy : 0.984375, training loss : 0.018714843317866325\n",
            "step: 1900, training accuracy : 0.984375, training loss : 0.02047385647892952\n",
            "step: 2000, training accuracy : 1.0, training loss : 0.009056424722075462\n",
            "step: 2100, training accuracy : 1.0, training loss : 0.012839105911552906\n",
            "step: 2200, training accuracy : 1.0, training loss : 0.014362113550305367\n",
            "step: 2300, training accuracy : 0.9921875, training loss : 0.014770187437534332\n",
            "step: 2400, training accuracy : 1.0, training loss : 0.016486437991261482\n",
            "step: 2500, training accuracy : 0.9921875, training loss : 0.011051550507545471\n",
            "step: 2600, training accuracy : 1.0, training loss : 0.014368247240781784\n",
            "step: 2700, training accuracy : 0.9765625, training loss : 0.02420034259557724\n",
            "step: 2800, training accuracy : 1.0, training loss : 0.010674605146050453\n",
            "step: 2900, training accuracy : 1.0, training loss : 0.01231332216411829\n",
            "step: 3000, training accuracy : 0.9921875, training loss : 0.0215364508330822\n",
            "step: 3100, training accuracy : 1.0, training loss : 0.007781222462654114\n",
            "step: 3200, training accuracy : 1.0, training loss : 0.008581742644309998\n",
            "step: 3300, training accuracy : 0.9921875, training loss : 0.008939946070313454\n",
            "step: 3400, training accuracy : 0.984375, training loss : 0.010538620874285698\n",
            "step: 3500, training accuracy : 1.0, training loss : 0.010062118992209435\n",
            "step: 3600, training accuracy : 1.0, training loss : 0.006977465469390154\n",
            "step: 3700, training accuracy : 0.9921875, training loss : 0.018324773758649826\n",
            "step: 3800, training accuracy : 0.9921875, training loss : 0.017717286944389343\n",
            "step: 3900, training accuracy : 1.0, training loss : 0.01266399770975113\n",
            "step: 4000, training accuracy : 1.0, training loss : 0.006811867002397776\n",
            "step: 4100, training accuracy : 1.0, training loss : 0.01062224991619587\n",
            "step: 4200, training accuracy : 1.0, training loss : 0.010472994297742844\n",
            "step: 4300, training accuracy : 0.9921875, training loss : 0.009856651537120342\n",
            "step: 4400, training accuracy : 0.9921875, training loss : 0.010672695934772491\n",
            "step: 4500, training accuracy : 1.0, training loss : 0.006210003979504108\n",
            "step: 4600, training accuracy : 0.9921875, training loss : 0.009517781436443329\n",
            "step: 4700, training accuracy : 1.0, training loss : 0.011559758335351944\n",
            "step: 4800, training accuracy : 1.0, training loss : 0.01280471682548523\n",
            "step: 4900, training accuracy : 1.0, training loss : 0.008789369836449623\n",
            "step: 5000, training accuracy : 0.9921875, training loss : 0.015391681343317032\n",
            "step: 5100, training accuracy : 1.0, training loss : 0.01128706056624651\n",
            "step: 5200, training accuracy : 1.0, training loss : 0.004864385351538658\n",
            "step: 5300, training accuracy : 1.0, training loss : 0.005786426831036806\n",
            "step: 5400, training accuracy : 1.0, training loss : 0.0069578103721141815\n",
            "step: 5500, training accuracy : 1.0, training loss : 0.011349616572260857\n",
            "step: 5600, training accuracy : 1.0, training loss : 0.007591921836137772\n",
            "step: 5700, training accuracy : 1.0, training loss : 0.007263658102601767\n",
            "step: 5800, training accuracy : 1.0, training loss : 0.004529325291514397\n",
            "step: 5900, training accuracy : 1.0, training loss : 0.006967354565858841\n",
            "step: 6000, training accuracy : 1.0, training loss : 0.00962450448423624\n",
            "step: 6100, training accuracy : 1.0, training loss : 0.003761880099773407\n",
            "step: 6200, training accuracy : 1.0, training loss : 0.007517870515584946\n",
            "step: 6300, training accuracy : 1.0, training loss : 0.009660039097070694\n",
            "step: 6400, training accuracy : 1.0, training loss : 0.005704175680875778\n",
            "step: 6500, training accuracy : 1.0, training loss : 0.004565197043120861\n",
            "step: 6600, training accuracy : 1.0, training loss : 0.004123827908188105\n",
            "step: 6700, training accuracy : 1.0, training loss : 0.005080283619463444\n",
            "step: 6800, training accuracy : 1.0, training loss : 0.00757219921797514\n",
            "step: 6900, training accuracy : 1.0, training loss : 0.005127165000885725\n",
            "step: 7000, training accuracy : 1.0, training loss : 0.004031379707157612\n",
            "step: 7100, training accuracy : 1.0, training loss : 0.00477585569024086\n",
            "step: 7200, training accuracy : 1.0, training loss : 0.009469247423112392\n",
            "step: 7300, training accuracy : 1.0, training loss : 0.004685411229729652\n",
            "step: 7400, training accuracy : 1.0, training loss : 0.005739539861679077\n",
            "step: 7500, training accuracy : 1.0, training loss : 0.004339648876339197\n",
            "step: 7600, training accuracy : 1.0, training loss : 0.004746291786432266\n",
            "step: 7700, training accuracy : 1.0, training loss : 0.00534528773277998\n",
            "step: 7800, training accuracy : 1.0, training loss : 0.003835153765976429\n",
            "step: 7900, training accuracy : 1.0, training loss : 0.006790283601731062\n",
            "step: 8000, training accuracy : 1.0, training loss : 0.005801718216389418\n",
            "step: 8100, training accuracy : 1.0, training loss : 0.0029830308631062508\n",
            "step: 8200, training accuracy : 1.0, training loss : 0.008623206056654453\n",
            "step: 8300, training accuracy : 1.0, training loss : 0.0024746230337768793\n",
            "step: 8400, training accuracy : 1.0, training loss : 0.013580678962171078\n",
            "step: 8500, training accuracy : 1.0, training loss : 0.003463494824245572\n",
            "step: 8600, training accuracy : 1.0, training loss : 0.004234995227307081\n",
            "step: 8700, training accuracy : 1.0, training loss : 0.0040502771735191345\n",
            "step: 8800, training accuracy : 0.9921875, training loss : 0.010370376519858837\n",
            "step: 8900, training accuracy : 1.0, training loss : 0.002715273294597864\n",
            "step: 9000, training accuracy : 1.0, training loss : 0.002793216146528721\n",
            "step: 9100, training accuracy : 1.0, training loss : 0.005582346580922604\n",
            "step: 9200, training accuracy : 1.0, training loss : 0.0035250303335487843\n",
            "step: 9300, training accuracy : 1.0, training loss : 0.0049065956845879555\n",
            "step: 9400, training accuracy : 1.0, training loss : 0.0023199892602860928\n",
            "step: 9500, training accuracy : 1.0, training loss : 0.0043293023481965065\n",
            "step: 9600, training accuracy : 1.0, training loss : 0.003625737503170967\n",
            "step: 9700, training accuracy : 1.0, training loss : 0.0031134802848100662\n",
            "step: 9800, training accuracy : 1.0, training loss : 0.007327516097575426\n",
            "step: 9900, training accuracy : 1.0, training loss : 0.002823343500494957\n",
            "2022-04-24 20:39:25.102725: W tensorflow/core/framework/cpu_allocator_impl.cc:81] Allocation of 1003520000 exceeds 10% of system memory.\n",
            "tcmalloc: large alloc 4265246720 bytes == 0x5563ec9f8000 @  0x7f21f53651e7 0x7f21e2873722 0x7f21e53a7aca 0x7f21e542f2f1 0x7f21e543149d 0x7f21e5431c51 0x7f21e5433c2b 0x7f21e54342cc 0x7f21e543518c 0x7f21de98fdcc 0x7f21de982535 0x7f21dea42f81 0x7f21dea40678 0x7f21f3c476df 0x7f21f511a6db 0x7f21f424f61f\n",
            "Test Accuracy: 0.9934999942779541\n"
          ]
        }
      ]
    },
    {
      "cell_type": "markdown",
      "source": [
        "# Baseline"
      ],
      "metadata": {
        "id": "5i3ER1VuD3s-"
      }
    },
    {
      "cell_type": "code",
      "source": [
        "# Remove checkpoints\n",
        "!rm /content/cnn-svm/checkpoint/*"
      ],
      "metadata": {
        "id": "4XmM9U2_HSnH",
        "colab": {
          "base_uri": "https://localhost:8080/"
        },
        "outputId": "00bbe7e3-c0c8-4a90-911b-ebeda8f2d661"
      },
      "execution_count": null,
      "outputs": [
        {
          "output_type": "stream",
          "name": "stdout",
          "text": [
            "rm: cannot remove '/content/cnn-svm/checkpoint/*': No such file or directory\n"
          ]
        }
      ]
    },
    {
      "cell_type": "code",
      "source": [
        "!python3 main.py --model 2 --dataset ./MNIST_data --penalty_parameter 1 --checkpoint_path ./checkpoint --log_path ./logs -e 1000"
      ],
      "metadata": {
        "colab": {
          "base_uri": "https://localhost:8080/"
        },
        "id": "UV6Y9AuuT6VH",
        "outputId": "5b33232d-1277-40c6-bff6-89b6c2370932"
      },
      "execution_count": null,
      "outputs": [
        {
          "output_type": "stream",
          "name": "stdout",
          "text": [
            "/content/cnn-svm\n",
            "WARNING:tensorflow:From main.py:83: read_data_sets (from tensorflow.contrib.learn.python.learn.datasets.mnist) is deprecated and will be removed in a future version.\n",
            "Instructions for updating:\n",
            "Please use alternatives such as official/mnist/dataset.py from tensorflow/models.\n",
            "WARNING:tensorflow:From /usr/local/lib/python3.7/dist-packages/tensorflow_core/contrib/learn/python/learn/datasets/mnist.py:260: maybe_download (from tensorflow.contrib.learn.python.learn.datasets.base) is deprecated and will be removed in a future version.\n",
            "Instructions for updating:\n",
            "Please write your own downloading logic.\n",
            "WARNING:tensorflow:From /usr/local/lib/python3.7/dist-packages/tensorflow_core/contrib/learn/python/learn/datasets/base.py:252: _internal_retry.<locals>.wrap.<locals>.wrapped_fn (from tensorflow.contrib.learn.python.learn.datasets.base) is deprecated and will be removed in a future version.\n",
            "Instructions for updating:\n",
            "Please use urllib or similar directly.\n",
            "Successfully downloaded train-images-idx3-ubyte.gz 9912422 bytes.\n",
            "WARNING:tensorflow:From /usr/local/lib/python3.7/dist-packages/tensorflow_core/contrib/learn/python/learn/datasets/mnist.py:262: extract_images (from tensorflow.contrib.learn.python.learn.datasets.mnist) is deprecated and will be removed in a future version.\n",
            "Instructions for updating:\n",
            "Please use tf.data to implement this functionality.\n",
            "Extracting ./MNIST_data/train-images-idx3-ubyte.gz\n",
            "Successfully downloaded train-labels-idx1-ubyte.gz 28881 bytes.\n",
            "WARNING:tensorflow:From /usr/local/lib/python3.7/dist-packages/tensorflow_core/contrib/learn/python/learn/datasets/mnist.py:267: extract_labels (from tensorflow.contrib.learn.python.learn.datasets.mnist) is deprecated and will be removed in a future version.\n",
            "Instructions for updating:\n",
            "Please use tf.data to implement this functionality.\n",
            "Extracting ./MNIST_data/train-labels-idx1-ubyte.gz\n",
            "WARNING:tensorflow:From /usr/local/lib/python3.7/dist-packages/tensorflow_core/contrib/learn/python/learn/datasets/mnist.py:110: dense_to_one_hot (from tensorflow.contrib.learn.python.learn.datasets.mnist) is deprecated and will be removed in a future version.\n",
            "Instructions for updating:\n",
            "Please use tf.one_hot on tensors.\n",
            "Successfully downloaded t10k-images-idx3-ubyte.gz 1648877 bytes.\n",
            "Extracting ./MNIST_data/t10k-images-idx3-ubyte.gz\n",
            "Successfully downloaded t10k-labels-idx1-ubyte.gz 4542 bytes.\n",
            "Extracting ./MNIST_data/t10k-labels-idx1-ubyte.gz\n",
            "WARNING:tensorflow:From /usr/local/lib/python3.7/dist-packages/tensorflow_core/contrib/learn/python/learn/datasets/mnist.py:290: DataSet.__init__ (from tensorflow.contrib.learn.python.learn.datasets.mnist) is deprecated and will be removed in a future version.\n",
            "Instructions for updating:\n",
            "Please use alternatives such as official/mnist/dataset.py from tensorflow/models.\n",
            "\n",
            "<log> Building graph...WARNING:tensorflow:From /content/cnn-svm/model/cnn_svm.py:49: The name tf.placeholder is deprecated. Please use tf.compat.v1.placeholder instead.\n",
            "\n",
            "WARNING:tensorflow:From /content/cnn-svm/model/cnn_svm.py:238: The name tf.truncated_normal is deprecated. Please use tf.random.truncated_normal instead.\n",
            "\n",
            "WARNING:tensorflow:From /content/cnn-svm/model/cnn_svm.py:268: The name tf.nn.max_pool is deprecated. Please use tf.nn.max_pool2d instead.\n",
            "\n",
            "WARNING:tensorflow:From /content/cnn-svm/model/cnn_svm.py:89: calling dropout (from tensorflow.python.ops.nn_ops) with keep_prob is deprecated and will be removed in a future version.\n",
            "Instructions for updating:\n",
            "Please use `rate` instead of `keep_prob`. Rate should be set to `rate = 1 - keep_prob`.\n",
            "WARNING:tensorflow:From /content/cnn-svm/model/cnn_svm.py:108: The name tf.summary.scalar is deprecated. Please use tf.compat.v1.summary.scalar instead.\n",
            "\n",
            "WARNING:tensorflow:From /content/cnn-svm/model/cnn_svm.py:110: The name tf.train.AdamOptimizer is deprecated. Please use tf.compat.v1.train.AdamOptimizer instead.\n",
            "\n",
            "WARNING:tensorflow:From /usr/local/lib/python3.7/dist-packages/tensorflow_core/python/ops/math_grad.py:1424: where (from tensorflow.python.ops.array_ops) is deprecated and will be removed in a future version.\n",
            "Instructions for updating:\n",
            "Use tf.where in 2.0, which has the same broadcast rule as np.where\n",
            "WARNING:tensorflow:From /content/cnn-svm/model/cnn_svm.py:121: The name tf.summary.merge_all is deprecated. Please use tf.compat.v1.summary.merge_all instead.\n",
            "\n",
            "</log>\n",
            "WARNING:tensorflow:From /content/cnn-svm/model/cnn_svm.py:153: The name tf.train.Saver is deprecated. Please use tf.compat.v1.train.Saver instead.\n",
            "\n",
            "WARNING:tensorflow:From /content/cnn-svm/model/cnn_svm.py:155: The name tf.global_variables_initializer is deprecated. Please use tf.compat.v1.global_variables_initializer instead.\n",
            "\n",
            "WARNING:tensorflow:From /content/cnn-svm/model/cnn_svm.py:159: The name tf.summary.FileWriter is deprecated. Please use tf.compat.v1.summary.FileWriter instead.\n",
            "\n",
            "WARNING:tensorflow:From /content/cnn-svm/model/cnn_svm.py:160: The name tf.get_default_graph is deprecated. Please use tf.compat.v1.get_default_graph instead.\n",
            "\n",
            "WARNING:tensorflow:From /content/cnn-svm/model/cnn_svm.py:163: The name tf.Session is deprecated. Please use tf.compat.v1.Session instead.\n",
            "\n",
            "2022-04-24 18:48:12.131844: I tensorflow/core/platform/cpu_feature_guard.cc:142] Your CPU supports instructions that this TensorFlow binary was not compiled to use: AVX2 FMA\n",
            "2022-04-24 18:48:12.135390: I tensorflow/core/platform/profile_utils/cpu_utils.cc:94] CPU Frequency: 2199995000 Hz\n",
            "2022-04-24 18:48:12.135688: I tensorflow/compiler/xla/service/service.cc:168] XLA service 0x562de2439b80 initialized for platform Host (this does not guarantee that XLA will be used). Devices:\n",
            "2022-04-24 18:48:12.135724: I tensorflow/compiler/xla/service/service.cc:176]   StreamExecutor device (0): Host, Default Version\n",
            "step: 0, training accuracy : 0.1640625, training loss : 11.93012809753418\n",
            "step: 100, training accuracy : 0.875, training loss : 0.11772650480270386\n",
            "step: 200, training accuracy : 0.9453125, training loss : 0.06343343108892441\n",
            "step: 300, training accuracy : 0.96875, training loss : 0.06521029025316238\n",
            "step: 400, training accuracy : 0.9921875, training loss : 0.025898534804582596\n",
            "WARNING:tensorflow:From /usr/local/lib/python3.7/dist-packages/tensorflow_core/python/training/saver.py:963: remove_checkpoint (from tensorflow.python.training.checkpoint_management) is deprecated and will be removed in a future version.\n",
            "Instructions for updating:\n",
            "Use standard file APIs to delete files with this prefix.\n",
            "step: 500, training accuracy : 0.9921875, training loss : 0.028216496109962463\n",
            "step: 600, training accuracy : 0.984375, training loss : 0.03358005732297897\n",
            "step: 700, training accuracy : 1.0, training loss : 0.015837877988815308\n",
            "step: 800, training accuracy : 0.984375, training loss : 0.026288386434316635\n",
            "step: 900, training accuracy : 1.0, training loss : 0.024092767387628555\n",
            "2022-04-24 18:54:12.799382: W tensorflow/core/framework/cpu_allocator_impl.cc:81] Allocation of 1003520000 exceeds 10% of system memory.\n",
            "2022-04-24 18:54:14.839073: W tensorflow/core/framework/cpu_allocator_impl.cc:81] Allocation of 250880000 exceeds 10% of system memory.\n",
            "2022-04-24 18:54:15.168783: W tensorflow/core/framework/cpu_allocator_impl.cc:81] Allocation of 501760000 exceeds 10% of system memory.\n",
            "tcmalloc: large alloc 4265246720 bytes == 0x562e71e04000 @  0x7f54f789b1e7 0x7f54e4da9722 0x7f54e78ddaca 0x7f54e79652f1 0x7f54e796749d 0x7f54e7967c51 0x7f54e7969c2b 0x7f54e796a2cc 0x7f54e796b18c 0x7f54e0ec5dcc 0x7f54e0eb8535 0x7f54e0f78f81 0x7f54e0f76678 0x7f54f617d6df 0x7f54f76506db 0x7f54f678561f\n",
            "Test Accuracy: 0.9868000149726868\n"
          ]
        }
      ]
    },
    {
      "cell_type": "markdown",
      "source": [
        "# Experiments on SVM"
      ],
      "metadata": {
        "id": "jM-ClXGJfYM9"
      }
    },
    {
      "cell_type": "code",
      "source": [
        "# Remove checkpoints\n",
        "!rm /content/cnn-svm/checkpoint/*"
      ],
      "metadata": {
        "id": "plRo7zU9KJYT"
      },
      "execution_count": null,
      "outputs": []
    },
    {
      "cell_type": "markdown",
      "source": [
        "C = 0.001"
      ],
      "metadata": {
        "id": "z__EmvtdD_Bb"
      }
    },
    {
      "cell_type": "code",
      "source": [
        "!python3 main.py --model 2 --dataset ./MNIST_data --penalty_parameter 0.001 --checkpoint_path ./checkpoint --log_path ./logs -e 1000"
      ],
      "metadata": {
        "colab": {
          "base_uri": "https://localhost:8080/"
        },
        "id": "SWD2PUHkD02G",
        "outputId": "bca9ca71-60ad-46e9-ee5a-734b71231f9d"
      },
      "execution_count": null,
      "outputs": [
        {
          "output_type": "stream",
          "name": "stdout",
          "text": [
            "WARNING:tensorflow:From main.py:83: read_data_sets (from tensorflow.contrib.learn.python.learn.datasets.mnist) is deprecated and will be removed in a future version.\n",
            "Instructions for updating:\n",
            "Please use alternatives such as official/mnist/dataset.py from tensorflow/models.\n",
            "WARNING:tensorflow:From /usr/local/lib/python3.7/dist-packages/tensorflow_core/contrib/learn/python/learn/datasets/mnist.py:260: maybe_download (from tensorflow.contrib.learn.python.learn.datasets.base) is deprecated and will be removed in a future version.\n",
            "Instructions for updating:\n",
            "Please write your own downloading logic.\n",
            "WARNING:tensorflow:From /usr/local/lib/python3.7/dist-packages/tensorflow_core/contrib/learn/python/learn/datasets/mnist.py:262: extract_images (from tensorflow.contrib.learn.python.learn.datasets.mnist) is deprecated and will be removed in a future version.\n",
            "Instructions for updating:\n",
            "Please use tf.data to implement this functionality.\n",
            "Extracting ./MNIST_data/train-images-idx3-ubyte.gz\n",
            "WARNING:tensorflow:From /usr/local/lib/python3.7/dist-packages/tensorflow_core/contrib/learn/python/learn/datasets/mnist.py:267: extract_labels (from tensorflow.contrib.learn.python.learn.datasets.mnist) is deprecated and will be removed in a future version.\n",
            "Instructions for updating:\n",
            "Please use tf.data to implement this functionality.\n",
            "Extracting ./MNIST_data/train-labels-idx1-ubyte.gz\n",
            "WARNING:tensorflow:From /usr/local/lib/python3.7/dist-packages/tensorflow_core/contrib/learn/python/learn/datasets/mnist.py:110: dense_to_one_hot (from tensorflow.contrib.learn.python.learn.datasets.mnist) is deprecated and will be removed in a future version.\n",
            "Instructions for updating:\n",
            "Please use tf.one_hot on tensors.\n",
            "Extracting ./MNIST_data/t10k-images-idx3-ubyte.gz\n",
            "Extracting ./MNIST_data/t10k-labels-idx1-ubyte.gz\n",
            "WARNING:tensorflow:From /usr/local/lib/python3.7/dist-packages/tensorflow_core/contrib/learn/python/learn/datasets/mnist.py:290: DataSet.__init__ (from tensorflow.contrib.learn.python.learn.datasets.mnist) is deprecated and will be removed in a future version.\n",
            "Instructions for updating:\n",
            "Please use alternatives such as official/mnist/dataset.py from tensorflow/models.\n",
            "\n",
            "<log> Building graph...WARNING:tensorflow:From /content/cnn-svm/model/cnn_svm.py:49: The name tf.placeholder is deprecated. Please use tf.compat.v1.placeholder instead.\n",
            "\n",
            "WARNING:tensorflow:From /content/cnn-svm/model/cnn_svm.py:238: The name tf.truncated_normal is deprecated. Please use tf.random.truncated_normal instead.\n",
            "\n",
            "WARNING:tensorflow:From /content/cnn-svm/model/cnn_svm.py:268: The name tf.nn.max_pool is deprecated. Please use tf.nn.max_pool2d instead.\n",
            "\n",
            "WARNING:tensorflow:From /content/cnn-svm/model/cnn_svm.py:89: calling dropout (from tensorflow.python.ops.nn_ops) with keep_prob is deprecated and will be removed in a future version.\n",
            "Instructions for updating:\n",
            "Please use `rate` instead of `keep_prob`. Rate should be set to `rate = 1 - keep_prob`.\n",
            "WARNING:tensorflow:From /content/cnn-svm/model/cnn_svm.py:108: The name tf.summary.scalar is deprecated. Please use tf.compat.v1.summary.scalar instead.\n",
            "\n",
            "WARNING:tensorflow:From /content/cnn-svm/model/cnn_svm.py:110: The name tf.train.AdamOptimizer is deprecated. Please use tf.compat.v1.train.AdamOptimizer instead.\n",
            "\n",
            "WARNING:tensorflow:From /usr/local/lib/python3.7/dist-packages/tensorflow_core/python/ops/math_grad.py:1424: where (from tensorflow.python.ops.array_ops) is deprecated and will be removed in a future version.\n",
            "Instructions for updating:\n",
            "Use tf.where in 2.0, which has the same broadcast rule as np.where\n",
            "WARNING:tensorflow:From /content/cnn-svm/model/cnn_svm.py:121: The name tf.summary.merge_all is deprecated. Please use tf.compat.v1.summary.merge_all instead.\n",
            "\n",
            "</log>\n",
            "WARNING:tensorflow:From /content/cnn-svm/model/cnn_svm.py:153: The name tf.train.Saver is deprecated. Please use tf.compat.v1.train.Saver instead.\n",
            "\n",
            "WARNING:tensorflow:From /content/cnn-svm/model/cnn_svm.py:155: The name tf.global_variables_initializer is deprecated. Please use tf.compat.v1.global_variables_initializer instead.\n",
            "\n",
            "WARNING:tensorflow:From /content/cnn-svm/model/cnn_svm.py:159: The name tf.summary.FileWriter is deprecated. Please use tf.compat.v1.summary.FileWriter instead.\n",
            "\n",
            "WARNING:tensorflow:From /content/cnn-svm/model/cnn_svm.py:160: The name tf.get_default_graph is deprecated. Please use tf.compat.v1.get_default_graph instead.\n",
            "\n",
            "WARNING:tensorflow:From /content/cnn-svm/model/cnn_svm.py:163: The name tf.Session is deprecated. Please use tf.compat.v1.Session instead.\n",
            "\n",
            "2022-04-24 18:54:27.814014: I tensorflow/core/platform/cpu_feature_guard.cc:142] Your CPU supports instructions that this TensorFlow binary was not compiled to use: AVX2 FMA\n",
            "2022-04-24 18:54:27.817719: I tensorflow/core/platform/profile_utils/cpu_utils.cc:94] CPU Frequency: 2199995000 Hz\n",
            "2022-04-24 18:54:27.818167: I tensorflow/compiler/xla/service/service.cc:168] XLA service 0x563b830cbb80 initialized for platform Host (this does not guarantee that XLA will be used). Devices:\n",
            "2022-04-24 18:54:27.818207: I tensorflow/compiler/xla/service/service.cc:176]   StreamExecutor device (0): Host, Default Version\n",
            "step: 0, training accuracy : 0.140625, training loss : 0.05386842414736748\n",
            "step: 100, training accuracy : 0.90625, training loss : 0.004042088985443115\n",
            "step: 200, training accuracy : 0.9375, training loss : 0.002346242778003216\n",
            "step: 300, training accuracy : 0.921875, training loss : 0.0015345570864155889\n",
            "step: 400, training accuracy : 0.9765625, training loss : 0.0010225751902908087\n",
            "WARNING:tensorflow:From /usr/local/lib/python3.7/dist-packages/tensorflow_core/python/training/saver.py:963: remove_checkpoint (from tensorflow.python.training.checkpoint_management) is deprecated and will be removed in a future version.\n",
            "Instructions for updating:\n",
            "Use standard file APIs to delete files with this prefix.\n",
            "step: 500, training accuracy : 0.9609375, training loss : 0.0007295621326193213\n",
            "step: 600, training accuracy : 0.96875, training loss : 0.0005304802325554192\n",
            "step: 700, training accuracy : 0.9765625, training loss : 0.0003946809738408774\n",
            "step: 800, training accuracy : 0.953125, training loss : 0.00030775825143791735\n",
            "step: 900, training accuracy : 0.984375, training loss : 0.00022187580179888755\n",
            "2022-04-24 19:00:29.563136: W tensorflow/core/framework/cpu_allocator_impl.cc:81] Allocation of 1003520000 exceeds 10% of system memory.\n",
            "2022-04-24 19:00:32.845968: W tensorflow/core/framework/cpu_allocator_impl.cc:81] Allocation of 501760000 exceeds 10% of system memory.\n",
            "tcmalloc: large alloc 4265246720 bytes == 0x563c12a96000 @  0x7f1e125f81e7 0x7f1dffb06722 0x7f1e0263aaca 0x7f1e026c22f1 0x7f1e026c449d 0x7f1e026c4c51 0x7f1e026c6c2b 0x7f1e026c72cc 0x7f1e026c818c 0x7f1dfbc22dcc 0x7f1dfbc230ff 0x7f1dfbcd5f81 0x7f1dfbcd3678 0x7f1e10eda6df 0x7f1e123ad6db 0x7f1e114e261f\n",
            "Test Accuracy: 0.9750999808311462\n"
          ]
        }
      ]
    },
    {
      "cell_type": "code",
      "source": [
        "# Remove checkpoints\n",
        "!rm /content/cnn-svm/checkpoint/*"
      ],
      "metadata": {
        "id": "wgl_-K0QKLnl"
      },
      "execution_count": null,
      "outputs": []
    },
    {
      "cell_type": "markdown",
      "source": [
        "C = 1000"
      ],
      "metadata": {
        "id": "Vawi0l7qJoXT"
      }
    },
    {
      "cell_type": "code",
      "source": [
        "!python3 main.py --model 2 --dataset ./MNIST_data --penalty_parameter 1000 --checkpoint_path ./checkpoint --log_path ./logs -e 1000"
      ],
      "metadata": {
        "colab": {
          "base_uri": "https://localhost:8080/"
        },
        "id": "7AID_01BKCnf",
        "outputId": "d06c4018-dd91-49bc-fe7d-f5b188f1ed57"
      },
      "execution_count": null,
      "outputs": [
        {
          "output_type": "stream",
          "name": "stdout",
          "text": [
            "WARNING:tensorflow:From main.py:83: read_data_sets (from tensorflow.contrib.learn.python.learn.datasets.mnist) is deprecated and will be removed in a future version.\n",
            "Instructions for updating:\n",
            "Please use alternatives such as official/mnist/dataset.py from tensorflow/models.\n",
            "WARNING:tensorflow:From /usr/local/lib/python3.7/dist-packages/tensorflow_core/contrib/learn/python/learn/datasets/mnist.py:260: maybe_download (from tensorflow.contrib.learn.python.learn.datasets.base) is deprecated and will be removed in a future version.\n",
            "Instructions for updating:\n",
            "Please write your own downloading logic.\n",
            "WARNING:tensorflow:From /usr/local/lib/python3.7/dist-packages/tensorflow_core/contrib/learn/python/learn/datasets/mnist.py:262: extract_images (from tensorflow.contrib.learn.python.learn.datasets.mnist) is deprecated and will be removed in a future version.\n",
            "Instructions for updating:\n",
            "Please use tf.data to implement this functionality.\n",
            "Extracting ./MNIST_data/train-images-idx3-ubyte.gz\n",
            "WARNING:tensorflow:From /usr/local/lib/python3.7/dist-packages/tensorflow_core/contrib/learn/python/learn/datasets/mnist.py:267: extract_labels (from tensorflow.contrib.learn.python.learn.datasets.mnist) is deprecated and will be removed in a future version.\n",
            "Instructions for updating:\n",
            "Please use tf.data to implement this functionality.\n",
            "Extracting ./MNIST_data/train-labels-idx1-ubyte.gz\n",
            "WARNING:tensorflow:From /usr/local/lib/python3.7/dist-packages/tensorflow_core/contrib/learn/python/learn/datasets/mnist.py:110: dense_to_one_hot (from tensorflow.contrib.learn.python.learn.datasets.mnist) is deprecated and will be removed in a future version.\n",
            "Instructions for updating:\n",
            "Please use tf.one_hot on tensors.\n",
            "Extracting ./MNIST_data/t10k-images-idx3-ubyte.gz\n",
            "Extracting ./MNIST_data/t10k-labels-idx1-ubyte.gz\n",
            "WARNING:tensorflow:From /usr/local/lib/python3.7/dist-packages/tensorflow_core/contrib/learn/python/learn/datasets/mnist.py:290: DataSet.__init__ (from tensorflow.contrib.learn.python.learn.datasets.mnist) is deprecated and will be removed in a future version.\n",
            "Instructions for updating:\n",
            "Please use alternatives such as official/mnist/dataset.py from tensorflow/models.\n",
            "\n",
            "<log> Building graph...WARNING:tensorflow:From /content/cnn-svm/model/cnn_svm.py:49: The name tf.placeholder is deprecated. Please use tf.compat.v1.placeholder instead.\n",
            "\n",
            "WARNING:tensorflow:From /content/cnn-svm/model/cnn_svm.py:238: The name tf.truncated_normal is deprecated. Please use tf.random.truncated_normal instead.\n",
            "\n",
            "WARNING:tensorflow:From /content/cnn-svm/model/cnn_svm.py:268: The name tf.nn.max_pool is deprecated. Please use tf.nn.max_pool2d instead.\n",
            "\n",
            "WARNING:tensorflow:From /content/cnn-svm/model/cnn_svm.py:89: calling dropout (from tensorflow.python.ops.nn_ops) with keep_prob is deprecated and will be removed in a future version.\n",
            "Instructions for updating:\n",
            "Please use `rate` instead of `keep_prob`. Rate should be set to `rate = 1 - keep_prob`.\n",
            "WARNING:tensorflow:From /content/cnn-svm/model/cnn_svm.py:108: The name tf.summary.scalar is deprecated. Please use tf.compat.v1.summary.scalar instead.\n",
            "\n",
            "WARNING:tensorflow:From /content/cnn-svm/model/cnn_svm.py:110: The name tf.train.AdamOptimizer is deprecated. Please use tf.compat.v1.train.AdamOptimizer instead.\n",
            "\n",
            "WARNING:tensorflow:From /usr/local/lib/python3.7/dist-packages/tensorflow_core/python/ops/math_grad.py:1424: where (from tensorflow.python.ops.array_ops) is deprecated and will be removed in a future version.\n",
            "Instructions for updating:\n",
            "Use tf.where in 2.0, which has the same broadcast rule as np.where\n",
            "WARNING:tensorflow:From /content/cnn-svm/model/cnn_svm.py:121: The name tf.summary.merge_all is deprecated. Please use tf.compat.v1.summary.merge_all instead.\n",
            "\n",
            "</log>\n",
            "WARNING:tensorflow:From /content/cnn-svm/model/cnn_svm.py:153: The name tf.train.Saver is deprecated. Please use tf.compat.v1.train.Saver instead.\n",
            "\n",
            "WARNING:tensorflow:From /content/cnn-svm/model/cnn_svm.py:155: The name tf.global_variables_initializer is deprecated. Please use tf.compat.v1.global_variables_initializer instead.\n",
            "\n",
            "WARNING:tensorflow:From /content/cnn-svm/model/cnn_svm.py:159: The name tf.summary.FileWriter is deprecated. Please use tf.compat.v1.summary.FileWriter instead.\n",
            "\n",
            "WARNING:tensorflow:From /content/cnn-svm/model/cnn_svm.py:160: The name tf.get_default_graph is deprecated. Please use tf.compat.v1.get_default_graph instead.\n",
            "\n",
            "WARNING:tensorflow:From /content/cnn-svm/model/cnn_svm.py:163: The name tf.Session is deprecated. Please use tf.compat.v1.Session instead.\n",
            "\n",
            "2022-04-24 19:00:42.940510: I tensorflow/core/platform/cpu_feature_guard.cc:142] Your CPU supports instructions that this TensorFlow binary was not compiled to use: AVX2 FMA\n",
            "2022-04-24 19:00:42.944379: I tensorflow/core/platform/profile_utils/cpu_utils.cc:94] CPU Frequency: 2199995000 Hz\n",
            "2022-04-24 19:00:42.944696: I tensorflow/compiler/xla/service/service.cc:168] XLA service 0x5572f9d41b80 initialized for platform Host (this does not guarantee that XLA will be used). Devices:\n",
            "2022-04-24 19:00:42.944738: I tensorflow/compiler/xla/service/service.cc:176]   StreamExecutor device (0): Host, Default Version\n",
            "step: 0, training accuracy : 0.0859375, training loss : 21036.36328125\n",
            "step: 100, training accuracy : 0.9375, training loss : 111.20081329345703\n",
            "step: 200, training accuracy : 0.96875, training loss : 47.251991271972656\n",
            "step: 300, training accuracy : 0.9921875, training loss : 22.40934181213379\n",
            "step: 400, training accuracy : 0.9609375, training loss : 33.15953826904297\n",
            "WARNING:tensorflow:From /usr/local/lib/python3.7/dist-packages/tensorflow_core/python/training/saver.py:963: remove_checkpoint (from tensorflow.python.training.checkpoint_management) is deprecated and will be removed in a future version.\n",
            "Instructions for updating:\n",
            "Use standard file APIs to delete files with this prefix.\n",
            "step: 500, training accuracy : 0.9921875, training loss : 20.21269416809082\n",
            "step: 600, training accuracy : 0.9375, training loss : 55.04861831665039\n",
            "step: 700, training accuracy : 0.984375, training loss : 35.37647247314453\n",
            "step: 800, training accuracy : 0.984375, training loss : 28.68886375427246\n",
            "step: 900, training accuracy : 0.9765625, training loss : 22.000669479370117\n",
            "2022-04-24 19:07:00.666051: W tensorflow/core/framework/cpu_allocator_impl.cc:81] Allocation of 1003520000 exceeds 10% of system memory.\n",
            "2022-04-24 19:07:03.908480: W tensorflow/core/framework/cpu_allocator_impl.cc:81] Allocation of 501760000 exceeds 10% of system memory.\n",
            "tcmalloc: large alloc 4265246720 bytes == 0x55738970c000 @  0x7fdf17e681e7 0x7fdf05376722 0x7fdf07eaaaca 0x7fdf07f322f1 0x7fdf07f3449d 0x7fdf07f34c51 0x7fdf07f36c2b 0x7fdf07f372cc 0x7fdf07f3818c 0x7fdf01492dcc 0x7fdf01485535 0x7fdf01545f81 0x7fdf01543678 0x7fdf1674a6df 0x7fdf17c1d6db 0x7fdf16d5261f\n",
            "Test Accuracy: 0.9853000044822693\n"
          ]
        }
      ]
    },
    {
      "cell_type": "code",
      "source": [
        "# Remove checkpoints\n",
        "!rm /content/cnn-svm/checkpoint/*"
      ],
      "metadata": {
        "id": "hNCjzOt3KMU-"
      },
      "execution_count": null,
      "outputs": []
    },
    {
      "cell_type": "markdown",
      "source": [
        "C = 1000000"
      ],
      "metadata": {
        "id": "KXV3aKxnMqVA"
      }
    },
    {
      "cell_type": "code",
      "source": [
        "!python3 main.py --model 2 --dataset ./MNIST_data --penalty_parameter 1000000 --checkpoint_path ./checkpoint --log_path ./logs -e 1000"
      ],
      "metadata": {
        "colab": {
          "base_uri": "https://localhost:8080/"
        },
        "id": "E0jqgH8qMpP8",
        "outputId": "68d84aca-7357-443f-93f6-308f2ceb08c0"
      },
      "execution_count": null,
      "outputs": [
        {
          "output_type": "stream",
          "name": "stdout",
          "text": [
            "WARNING:tensorflow:From main.py:83: read_data_sets (from tensorflow.contrib.learn.python.learn.datasets.mnist) is deprecated and will be removed in a future version.\n",
            "Instructions for updating:\n",
            "Please use alternatives such as official/mnist/dataset.py from tensorflow/models.\n",
            "WARNING:tensorflow:From /usr/local/lib/python3.7/dist-packages/tensorflow_core/contrib/learn/python/learn/datasets/mnist.py:260: maybe_download (from tensorflow.contrib.learn.python.learn.datasets.base) is deprecated and will be removed in a future version.\n",
            "Instructions for updating:\n",
            "Please write your own downloading logic.\n",
            "WARNING:tensorflow:From /usr/local/lib/python3.7/dist-packages/tensorflow_core/contrib/learn/python/learn/datasets/mnist.py:262: extract_images (from tensorflow.contrib.learn.python.learn.datasets.mnist) is deprecated and will be removed in a future version.\n",
            "Instructions for updating:\n",
            "Please use tf.data to implement this functionality.\n",
            "Extracting ./MNIST_data/train-images-idx3-ubyte.gz\n",
            "WARNING:tensorflow:From /usr/local/lib/python3.7/dist-packages/tensorflow_core/contrib/learn/python/learn/datasets/mnist.py:267: extract_labels (from tensorflow.contrib.learn.python.learn.datasets.mnist) is deprecated and will be removed in a future version.\n",
            "Instructions for updating:\n",
            "Please use tf.data to implement this functionality.\n",
            "Extracting ./MNIST_data/train-labels-idx1-ubyte.gz\n",
            "WARNING:tensorflow:From /usr/local/lib/python3.7/dist-packages/tensorflow_core/contrib/learn/python/learn/datasets/mnist.py:110: dense_to_one_hot (from tensorflow.contrib.learn.python.learn.datasets.mnist) is deprecated and will be removed in a future version.\n",
            "Instructions for updating:\n",
            "Please use tf.one_hot on tensors.\n",
            "Extracting ./MNIST_data/t10k-images-idx3-ubyte.gz\n",
            "Extracting ./MNIST_data/t10k-labels-idx1-ubyte.gz\n",
            "WARNING:tensorflow:From /usr/local/lib/python3.7/dist-packages/tensorflow_core/contrib/learn/python/learn/datasets/mnist.py:290: DataSet.__init__ (from tensorflow.contrib.learn.python.learn.datasets.mnist) is deprecated and will be removed in a future version.\n",
            "Instructions for updating:\n",
            "Please use alternatives such as official/mnist/dataset.py from tensorflow/models.\n",
            "\n",
            "<log> Building graph...WARNING:tensorflow:From /content/cnn-svm/model/cnn_svm.py:49: The name tf.placeholder is deprecated. Please use tf.compat.v1.placeholder instead.\n",
            "\n",
            "WARNING:tensorflow:From /content/cnn-svm/model/cnn_svm.py:238: The name tf.truncated_normal is deprecated. Please use tf.random.truncated_normal instead.\n",
            "\n",
            "WARNING:tensorflow:From /content/cnn-svm/model/cnn_svm.py:268: The name tf.nn.max_pool is deprecated. Please use tf.nn.max_pool2d instead.\n",
            "\n",
            "WARNING:tensorflow:From /content/cnn-svm/model/cnn_svm.py:89: calling dropout (from tensorflow.python.ops.nn_ops) with keep_prob is deprecated and will be removed in a future version.\n",
            "Instructions for updating:\n",
            "Please use `rate` instead of `keep_prob`. Rate should be set to `rate = 1 - keep_prob`.\n",
            "WARNING:tensorflow:From /content/cnn-svm/model/cnn_svm.py:108: The name tf.summary.scalar is deprecated. Please use tf.compat.v1.summary.scalar instead.\n",
            "\n",
            "WARNING:tensorflow:From /content/cnn-svm/model/cnn_svm.py:110: The name tf.train.AdamOptimizer is deprecated. Please use tf.compat.v1.train.AdamOptimizer instead.\n",
            "\n",
            "WARNING:tensorflow:From /usr/local/lib/python3.7/dist-packages/tensorflow_core/python/ops/math_grad.py:1424: where (from tensorflow.python.ops.array_ops) is deprecated and will be removed in a future version.\n",
            "Instructions for updating:\n",
            "Use tf.where in 2.0, which has the same broadcast rule as np.where\n",
            "WARNING:tensorflow:From /content/cnn-svm/model/cnn_svm.py:121: The name tf.summary.merge_all is deprecated. Please use tf.compat.v1.summary.merge_all instead.\n",
            "\n",
            "</log>\n",
            "WARNING:tensorflow:From /content/cnn-svm/model/cnn_svm.py:153: The name tf.train.Saver is deprecated. Please use tf.compat.v1.train.Saver instead.\n",
            "\n",
            "WARNING:tensorflow:From /content/cnn-svm/model/cnn_svm.py:155: The name tf.global_variables_initializer is deprecated. Please use tf.compat.v1.global_variables_initializer instead.\n",
            "\n",
            "WARNING:tensorflow:From /content/cnn-svm/model/cnn_svm.py:159: The name tf.summary.FileWriter is deprecated. Please use tf.compat.v1.summary.FileWriter instead.\n",
            "\n",
            "WARNING:tensorflow:From /content/cnn-svm/model/cnn_svm.py:160: The name tf.get_default_graph is deprecated. Please use tf.compat.v1.get_default_graph instead.\n",
            "\n",
            "WARNING:tensorflow:From /content/cnn-svm/model/cnn_svm.py:163: The name tf.Session is deprecated. Please use tf.compat.v1.Session instead.\n",
            "\n",
            "2022-04-24 19:07:14.188802: I tensorflow/core/platform/cpu_feature_guard.cc:142] Your CPU supports instructions that this TensorFlow binary was not compiled to use: AVX2 FMA\n",
            "2022-04-24 19:07:14.192632: I tensorflow/core/platform/profile_utils/cpu_utils.cc:94] CPU Frequency: 2199995000 Hz\n",
            "2022-04-24 19:07:14.193008: I tensorflow/compiler/xla/service/service.cc:168] XLA service 0x560b80e4bb80 initialized for platform Host (this does not guarantee that XLA will be used). Devices:\n",
            "2022-04-24 19:07:14.193055: I tensorflow/compiler/xla/service/service.cc:176]   StreamExecutor device (0): Host, Default Version\n",
            "step: 0, training accuracy : 0.1796875, training loss : 61716012.0\n",
            "step: 100, training accuracy : 0.921875, training loss : 124869.03125\n",
            "step: 200, training accuracy : 0.953125, training loss : 53609.4375\n",
            "step: 300, training accuracy : 0.96875, training loss : 40839.046875\n",
            "step: 400, training accuracy : 0.9921875, training loss : 17180.46875\n",
            "WARNING:tensorflow:From /usr/local/lib/python3.7/dist-packages/tensorflow_core/python/training/saver.py:963: remove_checkpoint (from tensorflow.python.training.checkpoint_management) is deprecated and will be removed in a future version.\n",
            "Instructions for updating:\n",
            "Use standard file APIs to delete files with this prefix.\n",
            "step: 500, training accuracy : 0.984375, training loss : 29016.4140625\n",
            "step: 600, training accuracy : 0.96875, training loss : 25506.876953125\n",
            "step: 700, training accuracy : 0.984375, training loss : 18793.595703125\n",
            "step: 800, training accuracy : 1.0, training loss : 16586.001953125\n",
            "step: 900, training accuracy : 0.9765625, training loss : 17708.017578125\n",
            "2022-04-24 19:13:15.542133: W tensorflow/core/framework/cpu_allocator_impl.cc:81] Allocation of 1003520000 exceeds 10% of system memory.\n",
            "tcmalloc: large alloc 4265246720 bytes == 0x560c10816000 @  0x7fbd204561e7 0x7fbd0d964722 0x7fbd10498aca 0x7fbd105202f1 0x7fbd1052249d 0x7fbd10522c51 0x7fbd10524c2b 0x7fbd105252cc 0x7fbd1052618c 0x7fbd09a80dcc 0x7fbd09a810ff 0x7fbd09b33f81 0x7fbd09b31678 0x7fbd1ed386df 0x7fbd2020b6db 0x7fbd1f34061f\n",
            "Test Accuracy: 0.9824000000953674\n"
          ]
        }
      ]
    },
    {
      "cell_type": "code",
      "source": [
        "# Remove checkpoints\n",
        "!rm /content/cnn-svm/checkpoint/*"
      ],
      "metadata": {
        "id": "XXVK5tcoOo1p"
      },
      "execution_count": null,
      "outputs": []
    },
    {
      "cell_type": "code",
      "source": [
        "!python3 main.py --model 2 --dataset ./MNIST_data --penalty_parameter 0.000001 --checkpoint_path ./checkpoint --log_path ./logs -e 1000"
      ],
      "metadata": {
        "colab": {
          "base_uri": "https://localhost:8080/"
        },
        "id": "DLRIFNysOpzI",
        "outputId": "3cb586dc-ad3e-4e10-a2d8-e0881a1c67bc"
      },
      "execution_count": null,
      "outputs": [
        {
          "output_type": "stream",
          "name": "stdout",
          "text": [
            "WARNING:tensorflow:From main.py:83: read_data_sets (from tensorflow.contrib.learn.python.learn.datasets.mnist) is deprecated and will be removed in a future version.\n",
            "Instructions for updating:\n",
            "Please use alternatives such as official/mnist/dataset.py from tensorflow/models.\n",
            "WARNING:tensorflow:From /usr/local/lib/python3.7/dist-packages/tensorflow_core/contrib/learn/python/learn/datasets/mnist.py:260: maybe_download (from tensorflow.contrib.learn.python.learn.datasets.base) is deprecated and will be removed in a future version.\n",
            "Instructions for updating:\n",
            "Please write your own downloading logic.\n",
            "WARNING:tensorflow:From /usr/local/lib/python3.7/dist-packages/tensorflow_core/contrib/learn/python/learn/datasets/mnist.py:262: extract_images (from tensorflow.contrib.learn.python.learn.datasets.mnist) is deprecated and will be removed in a future version.\n",
            "Instructions for updating:\n",
            "Please use tf.data to implement this functionality.\n",
            "Extracting ./MNIST_data/train-images-idx3-ubyte.gz\n",
            "WARNING:tensorflow:From /usr/local/lib/python3.7/dist-packages/tensorflow_core/contrib/learn/python/learn/datasets/mnist.py:267: extract_labels (from tensorflow.contrib.learn.python.learn.datasets.mnist) is deprecated and will be removed in a future version.\n",
            "Instructions for updating:\n",
            "Please use tf.data to implement this functionality.\n",
            "Extracting ./MNIST_data/train-labels-idx1-ubyte.gz\n",
            "WARNING:tensorflow:From /usr/local/lib/python3.7/dist-packages/tensorflow_core/contrib/learn/python/learn/datasets/mnist.py:110: dense_to_one_hot (from tensorflow.contrib.learn.python.learn.datasets.mnist) is deprecated and will be removed in a future version.\n",
            "Instructions for updating:\n",
            "Please use tf.one_hot on tensors.\n",
            "Extracting ./MNIST_data/t10k-images-idx3-ubyte.gz\n",
            "Extracting ./MNIST_data/t10k-labels-idx1-ubyte.gz\n",
            "WARNING:tensorflow:From /usr/local/lib/python3.7/dist-packages/tensorflow_core/contrib/learn/python/learn/datasets/mnist.py:290: DataSet.__init__ (from tensorflow.contrib.learn.python.learn.datasets.mnist) is deprecated and will be removed in a future version.\n",
            "Instructions for updating:\n",
            "Please use alternatives such as official/mnist/dataset.py from tensorflow/models.\n",
            "\n",
            "<log> Building graph...WARNING:tensorflow:From /content/cnn-svm/model/cnn_svm.py:49: The name tf.placeholder is deprecated. Please use tf.compat.v1.placeholder instead.\n",
            "\n",
            "WARNING:tensorflow:From /content/cnn-svm/model/cnn_svm.py:238: The name tf.truncated_normal is deprecated. Please use tf.random.truncated_normal instead.\n",
            "\n",
            "WARNING:tensorflow:From /content/cnn-svm/model/cnn_svm.py:268: The name tf.nn.max_pool is deprecated. Please use tf.nn.max_pool2d instead.\n",
            "\n",
            "WARNING:tensorflow:From /content/cnn-svm/model/cnn_svm.py:89: calling dropout (from tensorflow.python.ops.nn_ops) with keep_prob is deprecated and will be removed in a future version.\n",
            "Instructions for updating:\n",
            "Please use `rate` instead of `keep_prob`. Rate should be set to `rate = 1 - keep_prob`.\n",
            "WARNING:tensorflow:From /content/cnn-svm/model/cnn_svm.py:108: The name tf.summary.scalar is deprecated. Please use tf.compat.v1.summary.scalar instead.\n",
            "\n",
            "WARNING:tensorflow:From /content/cnn-svm/model/cnn_svm.py:110: The name tf.train.AdamOptimizer is deprecated. Please use tf.compat.v1.train.AdamOptimizer instead.\n",
            "\n",
            "WARNING:tensorflow:From /usr/local/lib/python3.7/dist-packages/tensorflow_core/python/ops/math_grad.py:1424: where (from tensorflow.python.ops.array_ops) is deprecated and will be removed in a future version.\n",
            "Instructions for updating:\n",
            "Use tf.where in 2.0, which has the same broadcast rule as np.where\n",
            "WARNING:tensorflow:From /content/cnn-svm/model/cnn_svm.py:121: The name tf.summary.merge_all is deprecated. Please use tf.compat.v1.summary.merge_all instead.\n",
            "\n",
            "</log>\n",
            "WARNING:tensorflow:From /content/cnn-svm/model/cnn_svm.py:153: The name tf.train.Saver is deprecated. Please use tf.compat.v1.train.Saver instead.\n",
            "\n",
            "WARNING:tensorflow:From /content/cnn-svm/model/cnn_svm.py:155: The name tf.global_variables_initializer is deprecated. Please use tf.compat.v1.global_variables_initializer instead.\n",
            "\n",
            "WARNING:tensorflow:From /content/cnn-svm/model/cnn_svm.py:159: The name tf.summary.FileWriter is deprecated. Please use tf.compat.v1.summary.FileWriter instead.\n",
            "\n",
            "WARNING:tensorflow:From /content/cnn-svm/model/cnn_svm.py:160: The name tf.get_default_graph is deprecated. Please use tf.compat.v1.get_default_graph instead.\n",
            "\n",
            "WARNING:tensorflow:From /content/cnn-svm/model/cnn_svm.py:163: The name tf.Session is deprecated. Please use tf.compat.v1.Session instead.\n",
            "\n",
            "2022-04-24 19:13:27.929136: I tensorflow/core/platform/cpu_feature_guard.cc:142] Your CPU supports instructions that this TensorFlow binary was not compiled to use: AVX2 FMA\n",
            "2022-04-24 19:13:27.933015: I tensorflow/core/platform/profile_utils/cpu_utils.cc:94] CPU Frequency: 2199995000 Hz\n",
            "2022-04-24 19:13:27.933371: I tensorflow/compiler/xla/service/service.cc:168] XLA service 0x562c76d29b80 initialized for platform Host (this does not guarantee that XLA will be used). Devices:\n",
            "2022-04-24 19:13:27.933412: I tensorflow/compiler/xla/service/service.cc:176]   StreamExecutor device (0): Host, Default Version\n",
            "step: 0, training accuracy : 0.125, training loss : 0.007977415807545185\n",
            "step: 100, training accuracy : 0.5546875, training loss : 0.001076008309610188\n",
            "step: 200, training accuracy : 0.6640625, training loss : 0.0001163592460216023\n",
            "step: 300, training accuracy : 0.609375, training loss : 9.454172868572641e-06\n",
            "step: 400, training accuracy : 0.5, training loss : 9.023123084261897e-07\n",
            "WARNING:tensorflow:From /usr/local/lib/python3.7/dist-packages/tensorflow_core/python/training/saver.py:963: remove_checkpoint (from tensorflow.python.training.checkpoint_management) is deprecated and will be removed in a future version.\n",
            "Instructions for updating:\n",
            "Use standard file APIs to delete files with this prefix.\n",
            "step: 500, training accuracy : 0.3515625, training loss : 4.2661096699703194e-07\n",
            "step: 600, training accuracy : 0.234375, training loss : 3.9539702356705675e-07\n",
            "step: 700, training accuracy : 0.4453125, training loss : 3.913507669039973e-07\n",
            "step: 800, training accuracy : 0.109375, training loss : 3.997449198323011e-07\n",
            "step: 900, training accuracy : 0.0703125, training loss : 4.0077148355521786e-07\n",
            "2022-04-24 19:19:32.704834: W tensorflow/core/framework/cpu_allocator_impl.cc:81] Allocation of 1003520000 exceeds 10% of system memory.\n",
            "2022-04-24 19:19:36.020831: W tensorflow/core/framework/cpu_allocator_impl.cc:81] Allocation of 501760000 exceeds 10% of system memory.\n",
            "tcmalloc: large alloc 4265246720 bytes == 0x562d066f4000 @  0x7f82cadc01e7 0x7f82b82ce722 0x7f82bae02aca 0x7f82bae8a2f1 0x7f82bae8c49d 0x7f82bae8cc51 0x7f82bae8ec2b 0x7f82bae8f2cc 0x7f82bae9018c 0x7f82b43eadcc 0x7f82b43eb0ff 0x7f82b449df81 0x7f82b449b678 0x7f82c96a26df 0x7f82cab756db 0x7f82c9caa61f\n",
            "Test Accuracy: 0.21439999341964722\n"
          ]
        }
      ]
    },
    {
      "cell_type": "markdown",
      "source": [
        "# Removing one convolution layer"
      ],
      "metadata": {
        "id": "YNqJxoYwevBq"
      }
    },
    {
      "cell_type": "code",
      "source": [
        "# Remove checkpoints\n",
        "!rm /content/cnn-svm/checkpoint/*"
      ],
      "metadata": {
        "id": "mhBXY62VemwS"
      },
      "execution_count": null,
      "outputs": []
    },
    {
      "cell_type": "code",
      "source": [
        "!python3 main.py --model 3 --dataset ./MNIST_data --penalty_parameter 1 --checkpoint_path ./checkpoint --log_path ./logs -e 1000"
      ],
      "metadata": {
        "colab": {
          "base_uri": "https://localhost:8080/"
        },
        "outputId": "2569af30-a6ac-4d2e-c9c3-66d579f2d05f",
        "id": "71Z3akjieqOV"
      },
      "execution_count": null,
      "outputs": [
        {
          "output_type": "stream",
          "name": "stdout",
          "text": [
            "WARNING:tensorflow:From main.py:83: read_data_sets (from tensorflow.contrib.learn.python.learn.datasets.mnist) is deprecated and will be removed in a future version.\n",
            "Instructions for updating:\n",
            "Please use alternatives such as official/mnist/dataset.py from tensorflow/models.\n",
            "WARNING:tensorflow:From /usr/local/lib/python3.7/dist-packages/tensorflow_core/contrib/learn/python/learn/datasets/mnist.py:260: maybe_download (from tensorflow.contrib.learn.python.learn.datasets.base) is deprecated and will be removed in a future version.\n",
            "Instructions for updating:\n",
            "Please write your own downloading logic.\n",
            "WARNING:tensorflow:From /usr/local/lib/python3.7/dist-packages/tensorflow_core/contrib/learn/python/learn/datasets/mnist.py:262: extract_images (from tensorflow.contrib.learn.python.learn.datasets.mnist) is deprecated and will be removed in a future version.\n",
            "Instructions for updating:\n",
            "Please use tf.data to implement this functionality.\n",
            "Extracting ./MNIST_data/train-images-idx3-ubyte.gz\n",
            "WARNING:tensorflow:From /usr/local/lib/python3.7/dist-packages/tensorflow_core/contrib/learn/python/learn/datasets/mnist.py:267: extract_labels (from tensorflow.contrib.learn.python.learn.datasets.mnist) is deprecated and will be removed in a future version.\n",
            "Instructions for updating:\n",
            "Please use tf.data to implement this functionality.\n",
            "Extracting ./MNIST_data/train-labels-idx1-ubyte.gz\n",
            "WARNING:tensorflow:From /usr/local/lib/python3.7/dist-packages/tensorflow_core/contrib/learn/python/learn/datasets/mnist.py:110: dense_to_one_hot (from tensorflow.contrib.learn.python.learn.datasets.mnist) is deprecated and will be removed in a future version.\n",
            "Instructions for updating:\n",
            "Please use tf.one_hot on tensors.\n",
            "Extracting ./MNIST_data/t10k-images-idx3-ubyte.gz\n",
            "Extracting ./MNIST_data/t10k-labels-idx1-ubyte.gz\n",
            "WARNING:tensorflow:From /usr/local/lib/python3.7/dist-packages/tensorflow_core/contrib/learn/python/learn/datasets/mnist.py:290: DataSet.__init__ (from tensorflow.contrib.learn.python.learn.datasets.mnist) is deprecated and will be removed in a future version.\n",
            "Instructions for updating:\n",
            "Please use alternatives such as official/mnist/dataset.py from tensorflow/models.\n",
            "\n",
            "<log> Building graph...WARNING:tensorflow:From /content/cnn-svm/model/model3.py:49: The name tf.placeholder is deprecated. Please use tf.compat.v1.placeholder instead.\n",
            "\n",
            "WARNING:tensorflow:From /content/cnn-svm/model/model3.py:230: The name tf.truncated_normal is deprecated. Please use tf.random.truncated_normal instead.\n",
            "\n",
            "WARNING:tensorflow:From /content/cnn-svm/model/model3.py:260: The name tf.nn.max_pool is deprecated. Please use tf.nn.max_pool2d instead.\n",
            "\n",
            "WARNING:tensorflow:From /content/cnn-svm/model/model3.py:81: calling dropout (from tensorflow.python.ops.nn_ops) with keep_prob is deprecated and will be removed in a future version.\n",
            "Instructions for updating:\n",
            "Please use `rate` instead of `keep_prob`. Rate should be set to `rate = 1 - keep_prob`.\n",
            "WARNING:tensorflow:From /content/cnn-svm/model/model3.py:100: The name tf.summary.scalar is deprecated. Please use tf.compat.v1.summary.scalar instead.\n",
            "\n",
            "WARNING:tensorflow:From /content/cnn-svm/model/model3.py:102: The name tf.train.AdamOptimizer is deprecated. Please use tf.compat.v1.train.AdamOptimizer instead.\n",
            "\n",
            "WARNING:tensorflow:From /usr/local/lib/python3.7/dist-packages/tensorflow_core/python/ops/math_grad.py:1424: where (from tensorflow.python.ops.array_ops) is deprecated and will be removed in a future version.\n",
            "Instructions for updating:\n",
            "Use tf.where in 2.0, which has the same broadcast rule as np.where\n",
            "WARNING:tensorflow:From /content/cnn-svm/model/model3.py:113: The name tf.summary.merge_all is deprecated. Please use tf.compat.v1.summary.merge_all instead.\n",
            "\n",
            "</log>\n",
            "WARNING:tensorflow:From /content/cnn-svm/model/model3.py:145: The name tf.train.Saver is deprecated. Please use tf.compat.v1.train.Saver instead.\n",
            "\n",
            "WARNING:tensorflow:From /content/cnn-svm/model/model3.py:147: The name tf.global_variables_initializer is deprecated. Please use tf.compat.v1.global_variables_initializer instead.\n",
            "\n",
            "WARNING:tensorflow:From /content/cnn-svm/model/model3.py:151: The name tf.summary.FileWriter is deprecated. Please use tf.compat.v1.summary.FileWriter instead.\n",
            "\n",
            "WARNING:tensorflow:From /content/cnn-svm/model/model3.py:152: The name tf.get_default_graph is deprecated. Please use tf.compat.v1.get_default_graph instead.\n",
            "\n",
            "WARNING:tensorflow:From /content/cnn-svm/model/model3.py:155: The name tf.Session is deprecated. Please use tf.compat.v1.Session instead.\n",
            "\n",
            "2022-04-24 19:19:46.479664: I tensorflow/core/platform/cpu_feature_guard.cc:142] Your CPU supports instructions that this TensorFlow binary was not compiled to use: AVX2 FMA\n",
            "2022-04-24 19:19:46.484005: I tensorflow/core/platform/profile_utils/cpu_utils.cc:94] CPU Frequency: 2199995000 Hz\n",
            "2022-04-24 19:19:46.484301: I tensorflow/compiler/xla/service/service.cc:168] XLA service 0x55e17adf1b80 initialized for platform Host (this does not guarantee that XLA will be used). Devices:\n",
            "2022-04-24 19:19:46.484342: I tensorflow/compiler/xla/service/service.cc:176]   StreamExecutor device (0): Host, Default Version\n",
            "step: 0, training accuracy : 0.078125, training loss : 11.20668888092041\n",
            "step: 100, training accuracy : 0.8515625, training loss : 0.17326761782169342\n",
            "step: 200, training accuracy : 0.9375, training loss : 0.14060519635677338\n",
            "step: 300, training accuracy : 0.9453125, training loss : 0.11067850887775421\n",
            "step: 400, training accuracy : 0.96875, training loss : 0.06257748603820801\n",
            "WARNING:tensorflow:From /usr/local/lib/python3.7/dist-packages/tensorflow_core/python/training/saver.py:963: remove_checkpoint (from tensorflow.python.training.checkpoint_management) is deprecated and will be removed in a future version.\n",
            "Instructions for updating:\n",
            "Use standard file APIs to delete files with this prefix.\n",
            "step: 500, training accuracy : 0.9375, training loss : 0.09047946333885193\n",
            "step: 600, training accuracy : 0.984375, training loss : 0.05132289230823517\n",
            "step: 700, training accuracy : 0.9765625, training loss : 0.04737420380115509\n",
            "step: 800, training accuracy : 0.984375, training loss : 0.0415353961288929\n",
            "step: 900, training accuracy : 0.9453125, training loss : 0.0568428710103035\n",
            "2022-04-24 19:23:42.420353: W tensorflow/core/framework/cpu_allocator_impl.cc:81] Allocation of 1003520000 exceeds 10% of system memory.\n",
            "Test Accuracy: 0.9753000140190125\n"
          ]
        }
      ]
    },
    {
      "cell_type": "markdown",
      "source": [
        "# Removing all convolution layers"
      ],
      "metadata": {
        "id": "zfJhb2-FyM95"
      }
    },
    {
      "cell_type": "code",
      "source": [
        "# Remove checkpoints\n",
        "!rm /content/cnn-svm/checkpoint/*"
      ],
      "metadata": {
        "id": "zayrq-zPyUHT"
      },
      "execution_count": null,
      "outputs": []
    },
    {
      "cell_type": "code",
      "source": [
        "!python3 main.py --model 4 --dataset ./MNIST_data --penalty_parameter 1 --checkpoint_path ./checkpoint --log_path ./logs -e 1000"
      ],
      "metadata": {
        "colab": {
          "base_uri": "https://localhost:8080/"
        },
        "outputId": "ebe8003a-46d4-4c66-9b82-94a967f9c084",
        "id": "iAG1-glDyXZk"
      },
      "execution_count": null,
      "outputs": [
        {
          "output_type": "stream",
          "name": "stdout",
          "text": [
            "WARNING:tensorflow:From main.py:83: read_data_sets (from tensorflow.contrib.learn.python.learn.datasets.mnist) is deprecated and will be removed in a future version.\n",
            "Instructions for updating:\n",
            "Please use alternatives such as official/mnist/dataset.py from tensorflow/models.\n",
            "WARNING:tensorflow:From /usr/local/lib/python3.7/dist-packages/tensorflow_core/contrib/learn/python/learn/datasets/mnist.py:260: maybe_download (from tensorflow.contrib.learn.python.learn.datasets.base) is deprecated and will be removed in a future version.\n",
            "Instructions for updating:\n",
            "Please write your own downloading logic.\n",
            "WARNING:tensorflow:From /usr/local/lib/python3.7/dist-packages/tensorflow_core/contrib/learn/python/learn/datasets/mnist.py:262: extract_images (from tensorflow.contrib.learn.python.learn.datasets.mnist) is deprecated and will be removed in a future version.\n",
            "Instructions for updating:\n",
            "Please use tf.data to implement this functionality.\n",
            "Extracting ./MNIST_data/train-images-idx3-ubyte.gz\n",
            "WARNING:tensorflow:From /usr/local/lib/python3.7/dist-packages/tensorflow_core/contrib/learn/python/learn/datasets/mnist.py:267: extract_labels (from tensorflow.contrib.learn.python.learn.datasets.mnist) is deprecated and will be removed in a future version.\n",
            "Instructions for updating:\n",
            "Please use tf.data to implement this functionality.\n",
            "Extracting ./MNIST_data/train-labels-idx1-ubyte.gz\n",
            "WARNING:tensorflow:From /usr/local/lib/python3.7/dist-packages/tensorflow_core/contrib/learn/python/learn/datasets/mnist.py:110: dense_to_one_hot (from tensorflow.contrib.learn.python.learn.datasets.mnist) is deprecated and will be removed in a future version.\n",
            "Instructions for updating:\n",
            "Please use tf.one_hot on tensors.\n",
            "Extracting ./MNIST_data/t10k-images-idx3-ubyte.gz\n",
            "Extracting ./MNIST_data/t10k-labels-idx1-ubyte.gz\n",
            "WARNING:tensorflow:From /usr/local/lib/python3.7/dist-packages/tensorflow_core/contrib/learn/python/learn/datasets/mnist.py:290: DataSet.__init__ (from tensorflow.contrib.learn.python.learn.datasets.mnist) is deprecated and will be removed in a future version.\n",
            "Instructions for updating:\n",
            "Please use alternatives such as official/mnist/dataset.py from tensorflow/models.\n",
            "\n",
            "<log> Building graph...WARNING:tensorflow:From /content/cnn-svm/model/model4.py:49: The name tf.placeholder is deprecated. Please use tf.compat.v1.placeholder instead.\n",
            "\n",
            "WARNING:tensorflow:From /content/cnn-svm/model/model4.py:222: The name tf.truncated_normal is deprecated. Please use tf.random.truncated_normal instead.\n",
            "\n",
            "WARNING:tensorflow:From /content/cnn-svm/model/model4.py:73: calling dropout (from tensorflow.python.ops.nn_ops) with keep_prob is deprecated and will be removed in a future version.\n",
            "Instructions for updating:\n",
            "Please use `rate` instead of `keep_prob`. Rate should be set to `rate = 1 - keep_prob`.\n",
            "WARNING:tensorflow:From /content/cnn-svm/model/model4.py:92: The name tf.summary.scalar is deprecated. Please use tf.compat.v1.summary.scalar instead.\n",
            "\n",
            "WARNING:tensorflow:From /content/cnn-svm/model/model4.py:94: The name tf.train.AdamOptimizer is deprecated. Please use tf.compat.v1.train.AdamOptimizer instead.\n",
            "\n",
            "WARNING:tensorflow:From /usr/local/lib/python3.7/dist-packages/tensorflow_core/python/ops/math_grad.py:1424: where (from tensorflow.python.ops.array_ops) is deprecated and will be removed in a future version.\n",
            "Instructions for updating:\n",
            "Use tf.where in 2.0, which has the same broadcast rule as np.where\n",
            "WARNING:tensorflow:From /content/cnn-svm/model/model4.py:105: The name tf.summary.merge_all is deprecated. Please use tf.compat.v1.summary.merge_all instead.\n",
            "\n",
            "</log>\n",
            "WARNING:tensorflow:From /content/cnn-svm/model/model4.py:137: The name tf.train.Saver is deprecated. Please use tf.compat.v1.train.Saver instead.\n",
            "\n",
            "WARNING:tensorflow:From /content/cnn-svm/model/model4.py:139: The name tf.global_variables_initializer is deprecated. Please use tf.compat.v1.global_variables_initializer instead.\n",
            "\n",
            "WARNING:tensorflow:From /content/cnn-svm/model/model4.py:143: The name tf.summary.FileWriter is deprecated. Please use tf.compat.v1.summary.FileWriter instead.\n",
            "\n",
            "WARNING:tensorflow:From /content/cnn-svm/model/model4.py:144: The name tf.get_default_graph is deprecated. Please use tf.compat.v1.get_default_graph instead.\n",
            "\n",
            "WARNING:tensorflow:From /content/cnn-svm/model/model4.py:147: The name tf.Session is deprecated. Please use tf.compat.v1.Session instead.\n",
            "\n",
            "2022-04-24 19:23:51.505302: I tensorflow/core/platform/cpu_feature_guard.cc:142] Your CPU supports instructions that this TensorFlow binary was not compiled to use: AVX2 FMA\n",
            "2022-04-24 19:23:51.513486: I tensorflow/core/platform/profile_utils/cpu_utils.cc:94] CPU Frequency: 2199995000 Hz\n",
            "2022-04-24 19:23:51.514234: I tensorflow/compiler/xla/service/service.cc:168] XLA service 0x562d7d687800 initialized for platform Host (this does not guarantee that XLA will be used). Devices:\n",
            "2022-04-24 19:23:51.514324: I tensorflow/compiler/xla/service/service.cc:176]   StreamExecutor device (0): Host, Default Version\n",
            "step: 0, training accuracy : 0.1875, training loss : 7.067687034606934\n",
            "step: 100, training accuracy : 0.8671875, training loss : 0.19876347482204437\n",
            "step: 200, training accuracy : 0.90625, training loss : 0.14881780743598938\n",
            "step: 300, training accuracy : 0.9375, training loss : 0.11453938484191895\n",
            "step: 400, training accuracy : 0.9765625, training loss : 0.058316927403211594\n",
            "WARNING:tensorflow:From /usr/local/lib/python3.7/dist-packages/tensorflow_core/python/training/saver.py:963: remove_checkpoint (from tensorflow.python.training.checkpoint_management) is deprecated and will be removed in a future version.\n",
            "Instructions for updating:\n",
            "Use standard file APIs to delete files with this prefix.\n",
            "step: 500, training accuracy : 0.9375, training loss : 0.08257687091827393\n",
            "step: 600, training accuracy : 0.984375, training loss : 0.05935707315802574\n",
            "step: 700, training accuracy : 0.96875, training loss : 0.07346445322036743\n",
            "step: 800, training accuracy : 0.9765625, training loss : 0.061868611723184586\n",
            "step: 900, training accuracy : 0.9921875, training loss : 0.029274486005306244\n",
            "Test Accuracy: 0.9668999910354614\n"
          ]
        }
      ]
    }
  ]
}